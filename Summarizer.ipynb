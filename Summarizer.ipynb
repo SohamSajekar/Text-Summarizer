{
 "cells": [
  {
   "cell_type": "code",
   "execution_count": 1,
   "id": "26ef8ab0",
   "metadata": {},
   "outputs": [
    {
     "name": "stderr",
     "output_type": "stream",
     "text": [
      "/Users/sanikakatekar/opt/anaconda3/lib/python3.8/site-packages/sklearn/base.py:310: UserWarning: Trying to unpickle estimator CountVectorizer from version 1.0.1 when using version 0.24.1. This might lead to breaking code or invalid results. Use at your own risk.\n",
      "  warnings.warn(\n",
      "/Users/sanikakatekar/opt/anaconda3/lib/python3.8/site-packages/sklearn/base.py:310: UserWarning: Trying to unpickle estimator TfidfTransformer from version 1.0.1 when using version 0.24.1. This might lead to breaking code or invalid results. Use at your own risk.\n",
      "  warnings.warn(\n"
     ]
    }
   ],
   "source": [
    "import re\n",
    "import numpy as np\n",
    "import pandas as pd\n",
    "from LDA import lda_transform\n",
    "from LSA import lsa_transform\n",
    "from rouge_metric import PyRouge\n",
    "from TFIDF import tfidf_transform\n",
    "from Paraphraser import rephrase_sen\n",
    "from SummarizerFunctions import *\n",
    "# def clean(line):\n",
    "#     return line\n",
    "# -----------------------\n",
    "# def get_rouge(summary, highlight):\n",
    "#     return rouge_dict\n",
    "# -----------------------\n",
    "# def extract_summary(idx, arti, highlight, topn, method):\n",
    "# -----------------------\n",
    "# def get_summary(articles, highlights, topn=3, method='lsa'):"
   ]
  },
  {
   "cell_type": "code",
   "execution_count": 8,
   "id": "72d1e171",
   "metadata": {},
   "outputs": [],
   "source": [
    "# Load Data\n",
    "test_data = pd.read_csv(\"Data/cnn_dailymail/test.csv\")\n",
    "test_data = test_data.iloc[[10000]] # Total 11490 samples \n",
    "# test_data = test_data.sample(n=1).reset_index(drop=True) # sampling a few articles\n",
    "articles = test_data['article'].to_list() # creating list of dataframe column\n",
    "highlights = test_data['highlights'].to_list()\n",
    "highlights = [clean(sen) for sen in highlights] # cleaning sens: removing spaces before \".\"\n",
    "# articles"
   ]
  },
  {
   "cell_type": "code",
   "execution_count": 9,
   "id": "c59bdac2",
   "metadata": {},
   "outputs": [
    {
     "name": "stdout",
     "output_type": "stream",
     "text": [
      "************************************************************\n",
      "\u001b[1mProcessing Article 1 \u001b[0m\n",
      "A carpenter from South California has created what may well be the world’s biggest see-saw. Kyle Toth, who runs his own custom woodworking business, built the seesaw from trees behind his workshop in Temecula. It measures a whopping 45ft in length, and according to its maker, sends its occupiers into the air at a height of around 25ft. Kyle said the tree was about 65ft long so he cut it to make it even on both sides and the seesaw was born . As seen in the video, the seesaw is made from entirely raw materials – a large trunk sits securely in between the natural split of a tree. Kyle told MailOnline: ‘I was cutting down some dead and damaged trees one day and was trying to drop this tree in between two others. ‘It didn't go as planned and ended up dropping in between a tree that had two huge branches splitting. ‘It fell basically where it is now but was about 65ft long and was laying on my fence. ‘So I cut the tree at what looked like would be even on both sides and just like that a massive teeter totter (American term for seesaw) was born. Kyle climbed the tree with a sledge hammer and pounded the trunk  into the split branches to stop it from sliding . There is no seat attached to the trunk but handrails have been added for support and ropes help people get on . ‘The whole thing kind of just happened. It ended up being the perfect weight on both sides. ‘I climbed up the tree with a sledge hammer and pounded the tree trunk down into the split branches to stop it from sliding. ‘I then called up a few of my friends and they came over really quickly once they heard.’ While there is no seat attached to the trunk, handrails have been added for support and ropes can be seen dangling from the base of it. Kyle said: ‘We had to attach a rope on one side so that when one person gets on they can pull the other person up and let someone else on. The seesaw measures  45ft in length, and according to Kyle, sends its occupiers into the air at a height of around 25ft . ‘I got on with one of my friends and it worked perfectly. It was a bit scary at first because it'll send you about 25ft in the air. ‘We used it for about 20 minutes. It’s so much fun. It takes the childhood ask of playing on a teeter totter and magnifies it by a thousand. ‘Basically if you were six-years-old and had never seen a regular teeter totter before that's what it would be like to see this thing as an adult.’ According to Kyle, four people can ride on the seesaw at one time and there is an amazing view from the top. The short clip, captured from two angles, shows two people riding the seesaw – one pumps the air in celebration and swings his dangling legs. Kyle said that the seesaw is a lot of fun and that it takes the childhood memory of playing on one and magnifies it by a thousand . Kyle's woodwork has been featured in the Providence Art Show, Boston’s World Trade Center Furniture Show and the Del Mar Woodworking competition in California . A number of people have commented positively on the video with one YouTube user writing: ‘That and a beer looks like a good time.’ The carpenter, who launched his business, Wood By Kyle Toth, in 2010 claims to have developed a passion for woodwork from a young age. His work has been featured in the Providence Art Show, Boston’s World Trade Center Furniture Show and the Del Mar Woodworking competition in California.\n",
      "\n",
      "\u001b[1mActual highlight\u001b[0m\n",
      "The seesaw was created by talented Temecula-based carpenter Kyle Toth.\n",
      "Kyle placed the large trunk into natural split of tree and cut it down to size.\n",
      "Rope attached to one side of the seesaw helps people get on and off.\n",
      "Seesaw is made from raw material and sends occupiers to height of  25ft.\n",
      "\n",
      "\u001b[1mextracting best sentences... completed.\u001b[0m\n",
      "A carpenter from South California has created what may well be the world’s biggest see-saw. Kyle's woodwork has been featured in the Providence Art Show, Boston’s World Trade Center Furniture Show and the Del Mar Woodworking competition in California. His work has been featured in the Providence Art Show, Boston’s World Trade Center Furniture Show and the Del Mar Woodworking competition in California.\n",
      "\n",
      "\u001b[1mrouge scores for extracted summary:\u001b[0m\n",
      "rouge-1 r: 0.1320754716981132\n",
      "rouge-1 p: 0.1111111111111111\n",
      "rouge-1 f: 0.12068965517241378\n",
      "rouge-2 r: 0.0\n",
      "rouge-2 p: 0.0\n",
      "rouge-2 f: 0.0\n",
      "rouge-l r: 0.11320754716981132\n",
      "rouge-l p: 0.09523809523809523\n",
      "rouge-l f: 0.10344827586206895\n",
      "rouge-s3 r: 0.0\n",
      "rouge-s3 p: 0.0\n",
      "rouge-s3 f: 0.0\n",
      "rouge-su3 r: 0.027559055118110236\n",
      "rouge-su3 p: 0.023026315789473683\n",
      "rouge-su3 f: 0.02508960573476703\n",
      "\n",
      "\n",
      "\u001b[1mparaphrasing extracted summary... completed.\u001b[0m\n",
      "A carpenter from South California has created what may well be the world ’ s \u001b[1m\u001b[94mlargest\u001b[0m see-saw. Kyle 's woodwork has been featured in the Providence Art Show Show , Boston ’ s World Trade Center Furniture Show Show and the Del Mar Woodworking competition in California. His work has been featured in the Providence Art Show Show , Boston ’ s World Trade Center Furniture Show Show and the Del Mar Woodworking competition in California.\n",
      "\n",
      "\u001b[1mrouge scores for extracted summary:\u001b[0m\n",
      "rouge-1 r: 0.1509433962264151\n",
      "rouge-1 p: 0.10526315789473684\n",
      "rouge-1 f: 0.124031007751938\n",
      "rouge-2 r: 0.0\n",
      "rouge-2 p: 0.0\n",
      "rouge-2 f: 0.0\n",
      "rouge-l r: 0.1320754716981132\n",
      "rouge-l p: 0.09210526315789473\n",
      "rouge-l f: 0.10852713178294575\n",
      "rouge-s3 r: 0.0\n",
      "rouge-s3 p: 0.0\n",
      "rouge-s3 f: 0.0\n",
      "rouge-su3 r: 0.031496062992125984\n",
      "rouge-su3 p: 0.02168021680216802\n",
      "rouge-su3 f: 0.025682182985553772\n",
      "************************************************************\n",
      "\n",
      "\n"
     ]
    }
   ],
   "source": [
    "get_summary(articles, highlights, topn=3, method='tfidf')"
   ]
  },
  {
   "cell_type": "code",
   "execution_count": 3,
   "id": "ea0b56fd",
   "metadata": {},
   "outputs": [
    {
     "name": "stdout",
     "output_type": "stream",
     "text": [
      "************************************************************\n",
      "\u001b[1mProcessing Article 1 \u001b[0m\n",
      "A carpenter from South California has created what may well be the world’s biggest see-saw. Kyle Toth, who runs his own custom woodworking business, built the seesaw from trees behind his workshop in Temecula. It measures a whopping 45ft in length, and according to its maker, sends its occupiers into the air at a height of around 25ft. Kyle said the tree was about 65ft long so he cut it to make it even on both sides and the seesaw was born . As seen in the video, the seesaw is made from entirely raw materials – a large trunk sits securely in between the natural split of a tree. Kyle told MailOnline: ‘I was cutting down some dead and damaged trees one day and was trying to drop this tree in between two others. ‘It didn't go as planned and ended up dropping in between a tree that had two huge branches splitting. ‘It fell basically where it is now but was about 65ft long and was laying on my fence. ‘So I cut the tree at what looked like would be even on both sides and just like that a massive teeter totter (American term for seesaw) was born. Kyle climbed the tree with a sledge hammer and pounded the trunk  into the split branches to stop it from sliding . There is no seat attached to the trunk but handrails have been added for support and ropes help people get on . ‘The whole thing kind of just happened. It ended up being the perfect weight on both sides. ‘I climbed up the tree with a sledge hammer and pounded the tree trunk down into the split branches to stop it from sliding. ‘I then called up a few of my friends and they came over really quickly once they heard.’ While there is no seat attached to the trunk, handrails have been added for support and ropes can be seen dangling from the base of it. Kyle said: ‘We had to attach a rope on one side so that when one person gets on they can pull the other person up and let someone else on. The seesaw measures  45ft in length, and according to Kyle, sends its occupiers into the air at a height of around 25ft . ‘I got on with one of my friends and it worked perfectly. It was a bit scary at first because it'll send you about 25ft in the air. ‘We used it for about 20 minutes. It’s so much fun. It takes the childhood ask of playing on a teeter totter and magnifies it by a thousand. ‘Basically if you were six-years-old and had never seen a regular teeter totter before that's what it would be like to see this thing as an adult.’ According to Kyle, four people can ride on the seesaw at one time and there is an amazing view from the top. The short clip, captured from two angles, shows two people riding the seesaw – one pumps the air in celebration and swings his dangling legs. Kyle said that the seesaw is a lot of fun and that it takes the childhood memory of playing on one and magnifies it by a thousand . Kyle's woodwork has been featured in the Providence Art Show, Boston’s World Trade Center Furniture Show and the Del Mar Woodworking competition in California . A number of people have commented positively on the video with one YouTube user writing: ‘That and a beer looks like a good time.’ The carpenter, who launched his business, Wood By Kyle Toth, in 2010 claims to have developed a passion for woodwork from a young age. His work has been featured in the Providence Art Show, Boston’s World Trade Center Furniture Show and the Del Mar Woodworking competition in California.\n",
      "\n",
      "\u001b[1mActual highlight\u001b[0m\n",
      "The seesaw was created by talented Temecula-based carpenter Kyle Toth.\n",
      "Kyle placed the large trunk into natural split of tree and cut it down to size.\n",
      "Rope attached to one side of the seesaw helps people get on and off.\n",
      "Seesaw is made from raw material and sends occupiers to height of  25ft.\n",
      "\n",
      "\u001b[1mextracting best sentences... completed.\u001b[0m\n",
      "Kyle said the tree was about 65ft long so he cut it to make it even on both sides and the seesaw was born. The short clip, captured from two angles, shows two people riding the seesaw – one pumps the air in celebration and swings his dangling legs. A number of people have commented positively on the video with one YouTube user  ‘That and a beer looks like a good time’ The carpenter, who launched his business, Wood By Kyle Toth, in 2010 claims to have developed a passion for woodwork from a young age.\n",
      "\n",
      "\u001b[1mrouge scores for extracted summary:\u001b[0m\n",
      "rouge-1 r: 0.39622641509433965\n",
      "rouge-1 p: 0.21875\n",
      "rouge-1 f: 0.28187919463087246\n",
      "rouge-2 r: 0.057692307692307696\n",
      "rouge-2 p: 0.031578947368421054\n",
      "rouge-2 f: 0.04081632653061225\n",
      "rouge-l r: 0.32075471698113206\n",
      "rouge-l p: 0.17708333333333334\n",
      "rouge-l f: 0.22818791946308728\n",
      "rouge-s3 r: 0.04950495049504951\n",
      "rouge-s3 p: 0.026737967914438502\n",
      "rouge-s3 f: 0.034722222222222224\n",
      "rouge-su3 r: 0.1220472440944882\n",
      "rouge-su3 p: 0.06609808102345416\n",
      "rouge-su3 f: 0.08575380359612725\n",
      "\n",
      "\n",
      "\u001b[1mparaphrasing extracted summary... completed.\u001b[0m\n",
      "Kyle said the tree was about 65ft long so he cut it to \u001b[1m\u001b[94mcome\u001b[0m it even on both \u001b[1m\u001b[94mnegotiations\u001b[0m and the seesaw was born. The \u001b[1m\u001b[94mfew\u001b[0m clip , captured from two \u001b[1m\u001b[94mdirections\u001b[0m , \u001b[1m\u001b[94mappears\u001b[0m two \u001b[1m\u001b[94mothers\u001b[0m \u001b[1m\u001b[94mwalking\u001b[0m the seesaw – one \u001b[1m\u001b[94mpumps\u001b[0m the air in celebration and \u001b[1m\u001b[94mfluctuations\u001b[0m his \u001b[1m\u001b[94mhanging\u001b[0m \u001b[1m\u001b[94mlimbs\u001b[0m. A number of \u001b[1m\u001b[94mothers\u001b[0m have commented positively on the video with one YouTube user ‘ That and a beer \u001b[1m\u001b[94mseems\u001b[0m \u001b[1m\u001b[94munlike\u001b[0m a \u001b[1m\u001b[94mlittle\u001b[0m time ’ The carpenter , who launched his business , Wood By Kyle Toth , in 2010 \u001b[1m\u001b[94mcontends\u001b[0m to have developed a passion for woodwork from a \u001b[1m\u001b[94mmany\u001b[0m age.\n",
      "\n",
      "\u001b[1mrouge scores for extracted summary:\u001b[0m\n",
      "rouge-1 r: 0.39622641509433965\n",
      "rouge-1 p: 0.20388349514563106\n",
      "rouge-1 f: 0.2692307692307692\n",
      "rouge-2 r: 0.057692307692307696\n",
      "rouge-2 p: 0.029411764705882353\n",
      "rouge-2 f: 0.03896103896103897\n",
      "rouge-l r: 0.32075471698113206\n",
      "rouge-l p: 0.1650485436893204\n",
      "rouge-l f: 0.21794871794871795\n",
      "rouge-s3 r: 0.039603960396039604\n",
      "rouge-s3 p: 0.01990049751243781\n",
      "rouge-s3 f: 0.026490066225165563\n",
      "rouge-su3 r: 0.1141732283464567\n",
      "rouge-su3 p: 0.057539682539682536\n",
      "rouge-su3 f: 0.07651715039577836\n",
      "************************************************************\n",
      "\n",
      "\n"
     ]
    }
   ],
   "source": [
    "get_summary(articles, highlights, topn=3, method='lda')"
   ]
  },
  {
   "cell_type": "code",
   "execution_count": 4,
   "id": "f131aca6",
   "metadata": {},
   "outputs": [
    {
     "name": "stdout",
     "output_type": "stream",
     "text": [
      "************************************************************\n",
      "\u001b[1mProcessing Article 1 \u001b[0m\n",
      "A carpenter from South California has created what may well be the world’s biggest see-saw. Kyle Toth, who runs his own custom woodworking business, built the seesaw from trees behind his workshop in Temecula. It measures a whopping 45ft in length, and according to its maker, sends its occupiers into the air at a height of around 25ft. Kyle said the tree was about 65ft long so he cut it to make it even on both sides and the seesaw was born . As seen in the video, the seesaw is made from entirely raw materials – a large trunk sits securely in between the natural split of a tree. Kyle told MailOnline: ‘I was cutting down some dead and damaged trees one day and was trying to drop this tree in between two others. ‘It didn't go as planned and ended up dropping in between a tree that had two huge branches splitting. ‘It fell basically where it is now but was about 65ft long and was laying on my fence. ‘So I cut the tree at what looked like would be even on both sides and just like that a massive teeter totter (American term for seesaw) was born. Kyle climbed the tree with a sledge hammer and pounded the trunk  into the split branches to stop it from sliding . There is no seat attached to the trunk but handrails have been added for support and ropes help people get on . ‘The whole thing kind of just happened. It ended up being the perfect weight on both sides. ‘I climbed up the tree with a sledge hammer and pounded the tree trunk down into the split branches to stop it from sliding. ‘I then called up a few of my friends and they came over really quickly once they heard.’ While there is no seat attached to the trunk, handrails have been added for support and ropes can be seen dangling from the base of it. Kyle said: ‘We had to attach a rope on one side so that when one person gets on they can pull the other person up and let someone else on. The seesaw measures  45ft in length, and according to Kyle, sends its occupiers into the air at a height of around 25ft . ‘I got on with one of my friends and it worked perfectly. It was a bit scary at first because it'll send you about 25ft in the air. ‘We used it for about 20 minutes. It’s so much fun. It takes the childhood ask of playing on a teeter totter and magnifies it by a thousand. ‘Basically if you were six-years-old and had never seen a regular teeter totter before that's what it would be like to see this thing as an adult.’ According to Kyle, four people can ride on the seesaw at one time and there is an amazing view from the top. The short clip, captured from two angles, shows two people riding the seesaw – one pumps the air in celebration and swings his dangling legs. Kyle said that the seesaw is a lot of fun and that it takes the childhood memory of playing on one and magnifies it by a thousand . Kyle's woodwork has been featured in the Providence Art Show, Boston’s World Trade Center Furniture Show and the Del Mar Woodworking competition in California . A number of people have commented positively on the video with one YouTube user writing: ‘That and a beer looks like a good time.’ The carpenter, who launched his business, Wood By Kyle Toth, in 2010 claims to have developed a passion for woodwork from a young age. His work has been featured in the Providence Art Show, Boston’s World Trade Center Furniture Show and the Del Mar Woodworking competition in California.\n",
      "\n",
      "\u001b[1mActual highlight\u001b[0m\n",
      "The seesaw was created by talented Temecula-based carpenter Kyle Toth.\n",
      "Kyle placed the large trunk into natural split of tree and cut it down to size.\n",
      "Rope attached to one side of the seesaw helps people get on and off.\n",
      "Seesaw is made from raw material and sends occupiers to height of  25ft.\n",
      "\n",
      "\u001b[1mextracting best sentences... completed.\u001b[0m\n",
      "A carpenter from South California has created what may well be the world’s biggest see-saw. Kyle Toth, who runs his own custom woodworking business, built the seesaw from trees behind his workshop in Temecula. It measures a whopping 45ft in length, and according to its maker, sends its occupiers into the air at a height of around 25ft.\n",
      "\n",
      "\u001b[1mrouge scores for extracted summary:\u001b[0m\n",
      "rouge-1 r: 0.2830188679245283\n",
      "rouge-1 p: 0.25862068965517243\n",
      "rouge-1 f: 0.2702702702702703\n",
      "rouge-2 r: 0.038461538461538464\n",
      "rouge-2 p: 0.03508771929824561\n",
      "rouge-2 f: 0.03669724770642201\n",
      "rouge-l r: 0.24528301886792453\n",
      "rouge-l p: 0.22413793103448276\n",
      "rouge-l f: 0.23423423423423423\n",
      "rouge-s3 r: 0.0297029702970297\n",
      "rouge-s3 p: 0.02702702702702703\n",
      "rouge-s3 f: 0.02830188679245283\n",
      "rouge-su3 r: 0.07874015748031496\n",
      "rouge-su3 p: 0.07168458781362007\n",
      "rouge-su3 f: 0.075046904315197\n",
      "\n",
      "\n",
      "\u001b[1mparaphrasing extracted summary... completed.\u001b[0m\n",
      "A carpenter from South California has created what may well be the world ’ s \u001b[1m\u001b[94mlargest\u001b[0m see-saw. Kyle Toth , who \u001b[1m\u001b[94mgoes\u001b[0m his own custom \u001b[1m\u001b[94mwoodturning\u001b[0m business , built the seesaw from \u001b[1m\u001b[94mshrubs\u001b[0m \u001b[1m\u001b[94mwhile\u001b[0m his workshop in Temecula. It \u001b[1m\u001b[94mmeasures\u001b[0m a \u001b[1m\u001b[94mwhopping\u001b[0m 45ft in length , and \u001b[1m\u001b[94mnoting\u001b[0m to its maker , \u001b[1m\u001b[94mcomes\u001b[0m its \u001b[1m\u001b[94minvaders\u001b[0m into the air at a height of \u001b[1m\u001b[94maround\u001b[0m 25ft.\n",
      "\n",
      "\u001b[1mrouge scores for extracted summary:\u001b[0m\n",
      "rouge-1 r: 0.24528301886792453\n",
      "rouge-1 p: 0.203125\n",
      "rouge-1 f: 0.2222222222222222\n",
      "rouge-2 r: 0.038461538461538464\n",
      "rouge-2 p: 0.031746031746031744\n",
      "rouge-2 f: 0.034782608695652174\n",
      "rouge-l r: 0.22641509433962265\n",
      "rouge-l p: 0.1875\n",
      "rouge-l f: 0.20512820512820515\n",
      "rouge-s3 r: 0.024752475247524754\n",
      "rouge-s3 p: 0.02032520325203252\n",
      "rouge-s3 f: 0.02232142857142857\n",
      "rouge-su3 r: 0.06692913385826772\n",
      "rouge-su3 p: 0.05501618122977346\n",
      "rouge-su3 f: 0.06039076376554174\n",
      "************************************************************\n",
      "\n",
      "\n"
     ]
    }
   ],
   "source": [
    "get_summary(articles, highlights, topn=3, method='lsa')"
   ]
  },
  {
   "cell_type": "code",
   "execution_count": null,
   "id": "94ee26b3",
   "metadata": {},
   "outputs": [],
   "source": []
  }
 ],
 "metadata": {
  "kernelspec": {
   "display_name": "Python 3",
   "language": "python",
   "name": "python3"
  },
  "language_info": {
   "codemirror_mode": {
    "name": "ipython",
    "version": 3
   },
   "file_extension": ".py",
   "mimetype": "text/x-python",
   "name": "python",
   "nbconvert_exporter": "python",
   "pygments_lexer": "ipython3",
   "version": "3.8.8"
  }
 },
 "nbformat": 4,
 "nbformat_minor": 5
}
