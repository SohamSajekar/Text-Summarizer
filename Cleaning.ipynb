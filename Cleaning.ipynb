{
 "cells": [
  {
   "cell_type": "code",
   "execution_count": 1,
   "id": "eac9649d",
   "metadata": {},
   "outputs": [],
   "source": [
    "## Import libraries\n",
    "import re\n",
    "import nltk\n",
    "import spacy\n",
    "import string\n",
    "import pickle\n",
    "import numpy as np\n",
    "import pandas as pd\n",
    "en = spacy.load('en_core_web_sm')\n",
    "sw_spacy = en.Defaults.stop_words\n",
    "from tqdm.notebook import tqdm_notebook"
   ]
  },
  {
   "cell_type": "code",
   "execution_count": 2,
   "id": "7a919f02",
   "metadata": {},
   "outputs": [],
   "source": [
    "## Load Data\n",
    "data_train = pd.read_csv(r\"Data\\\\cnn_dailymail\\\\train.csv\")\n",
    "# data_test = pd.read_csv(r\"dataset\\\\cnn_dailymail\\\\test.csv\")\n",
    "# data_val = pd.read_csv(r\"dataset\\\\cnn_dailymail\\\\validation.csv\")"
   ]
  },
  {
   "cell_type": "code",
   "execution_count": 3,
   "id": "0cfd75d1",
   "metadata": {},
   "outputs": [
    {
     "data": {
      "text/html": [
       "<div>\n",
       "<style scoped>\n",
       "    .dataframe tbody tr th:only-of-type {\n",
       "        vertical-align: middle;\n",
       "    }\n",
       "\n",
       "    .dataframe tbody tr th {\n",
       "        vertical-align: top;\n",
       "    }\n",
       "\n",
       "    .dataframe thead th {\n",
       "        text-align: right;\n",
       "    }\n",
       "</style>\n",
       "<table border=\"1\" class=\"dataframe\">\n",
       "  <thead>\n",
       "    <tr style=\"text-align: right;\">\n",
       "      <th></th>\n",
       "      <th>id</th>\n",
       "      <th>article</th>\n",
       "      <th>highlights</th>\n",
       "    </tr>\n",
       "  </thead>\n",
       "  <tbody>\n",
       "    <tr>\n",
       "      <th>103297</th>\n",
       "      <td>11334631ba00e479574bffdb366dbad08d3a6c17</td>\n",
       "      <td>By . Steve Nolan . PUBLISHED: . 13:58 EST, 20 ...</td>\n",
       "      <td>Kidderminster Harriers game with Stockport sus...</td>\n",
       "    </tr>\n",
       "    <tr>\n",
       "      <th>251700</th>\n",
       "      <td>d1c94f42180bceb8202293ee69b0050af1dce888</td>\n",
       "      <td>Islamabad (CNN) -- A campaign to eradicate pol...</td>\n",
       "      <td>Six polio vaccination workers were killed in a...</td>\n",
       "    </tr>\n",
       "    <tr>\n",
       "      <th>6326</th>\n",
       "      <td>11f1e3830b0fcdcf0b2820e7297fd7ec01522858</td>\n",
       "      <td>By . Ruth Styles . PUBLISHED: . 10:12 EST, 8 D...</td>\n",
       "      <td>The handset is the work of Swiss designer Ales...</td>\n",
       "    </tr>\n",
       "    <tr>\n",
       "      <th>108340</th>\n",
       "      <td>17b1c6d5ddcabc8581bccc9b5cdfbacc0eb28824</td>\n",
       "      <td>Apple will unveil the latest version of its iP...</td>\n",
       "      <td>Report: New iPhone coming on September 10 .\\nP...</td>\n",
       "    </tr>\n",
       "    <tr>\n",
       "      <th>8386</th>\n",
       "      <td>17a8f106f7bfd8bfe868dcc145f9fa64f06badc9</td>\n",
       "      <td>By . Kieran Corcoran . PUBLISHED: . 11:45 EST,...</td>\n",
       "      <td>John Constantine, 33, strangled Karen Welsh at...</td>\n",
       "    </tr>\n",
       "    <tr>\n",
       "      <th>...</th>\n",
       "      <td>...</td>\n",
       "      <td>...</td>\n",
       "      <td>...</td>\n",
       "    </tr>\n",
       "    <tr>\n",
       "      <th>108689</th>\n",
       "      <td>1826bcc8f3823a98a25b4e233c3eb7f7b1c8688e</td>\n",
       "      <td>By . Sarah Michael . James Packer and David Gy...</td>\n",
       "      <td>Casino mogul and Nine CEO given criminal infri...</td>\n",
       "    </tr>\n",
       "    <tr>\n",
       "      <th>144261</th>\n",
       "      <td>468c3d70aa6617db49254cc1344777a97ede3ae5</td>\n",
       "      <td>The year's first colchicums bring a blend of j...</td>\n",
       "      <td>Buy them now as dry bulbs and expect fresh blo...</td>\n",
       "    </tr>\n",
       "    <tr>\n",
       "      <th>130677</th>\n",
       "      <td>350097b577f79ee463810c59ab60590c6b53990d</td>\n",
       "      <td>A paraplegic veteran gave his wife the best su...</td>\n",
       "      <td>Sgt. Joey Johnson of Fishers, Indiana, surpris...</td>\n",
       "    </tr>\n",
       "    <tr>\n",
       "      <th>62795</th>\n",
       "      <td>b2604b455820a12d0f4d63cda6e4483238f472c5</td>\n",
       "      <td>By . Luke Garratt . A schoolboy was airlifted ...</td>\n",
       "      <td>Schoolboy was on an Easter holiday day out wit...</td>\n",
       "    </tr>\n",
       "    <tr>\n",
       "      <th>107060</th>\n",
       "      <td>16160ebde27c9d8bc4aa89f6ba701f6a88edd525</td>\n",
       "      <td>This collection of rare color photos of Berlin...</td>\n",
       "      <td>Uncovered images show glimpse into life in the...</td>\n",
       "    </tr>\n",
       "  </tbody>\n",
       "</table>\n",
       "<p>25000 rows × 3 columns</p>\n",
       "</div>"
      ],
      "text/plain": [
       "                                              id  \\\n",
       "103297  11334631ba00e479574bffdb366dbad08d3a6c17   \n",
       "251700  d1c94f42180bceb8202293ee69b0050af1dce888   \n",
       "6326    11f1e3830b0fcdcf0b2820e7297fd7ec01522858   \n",
       "108340  17b1c6d5ddcabc8581bccc9b5cdfbacc0eb28824   \n",
       "8386    17a8f106f7bfd8bfe868dcc145f9fa64f06badc9   \n",
       "...                                          ...   \n",
       "108689  1826bcc8f3823a98a25b4e233c3eb7f7b1c8688e   \n",
       "144261  468c3d70aa6617db49254cc1344777a97ede3ae5   \n",
       "130677  350097b577f79ee463810c59ab60590c6b53990d   \n",
       "62795   b2604b455820a12d0f4d63cda6e4483238f472c5   \n",
       "107060  16160ebde27c9d8bc4aa89f6ba701f6a88edd525   \n",
       "\n",
       "                                                  article  \\\n",
       "103297  By . Steve Nolan . PUBLISHED: . 13:58 EST, 20 ...   \n",
       "251700  Islamabad (CNN) -- A campaign to eradicate pol...   \n",
       "6326    By . Ruth Styles . PUBLISHED: . 10:12 EST, 8 D...   \n",
       "108340  Apple will unveil the latest version of its iP...   \n",
       "8386    By . Kieran Corcoran . PUBLISHED: . 11:45 EST,...   \n",
       "...                                                   ...   \n",
       "108689  By . Sarah Michael . James Packer and David Gy...   \n",
       "144261  The year's first colchicums bring a blend of j...   \n",
       "130677  A paraplegic veteran gave his wife the best su...   \n",
       "62795   By . Luke Garratt . A schoolboy was airlifted ...   \n",
       "107060  This collection of rare color photos of Berlin...   \n",
       "\n",
       "                                               highlights  \n",
       "103297  Kidderminster Harriers game with Stockport sus...  \n",
       "251700  Six polio vaccination workers were killed in a...  \n",
       "6326    The handset is the work of Swiss designer Ales...  \n",
       "108340  Report: New iPhone coming on September 10 .\\nP...  \n",
       "8386    John Constantine, 33, strangled Karen Welsh at...  \n",
       "...                                                   ...  \n",
       "108689  Casino mogul and Nine CEO given criminal infri...  \n",
       "144261  Buy them now as dry bulbs and expect fresh blo...  \n",
       "130677  Sgt. Joey Johnson of Fishers, Indiana, surpris...  \n",
       "62795   Schoolboy was on an Easter holiday day out wit...  \n",
       "107060  Uncovered images show glimpse into life in the...  \n",
       "\n",
       "[25000 rows x 3 columns]"
      ]
     },
     "execution_count": 3,
     "metadata": {},
     "output_type": "execute_result"
    }
   ],
   "source": [
    "data_train = data_train.sample(n = 25000)\n",
    "data_train"
   ]
  },
  {
   "cell_type": "code",
   "execution_count": 4,
   "id": "89c33a59",
   "metadata": {},
   "outputs": [],
   "source": [
    "def clean_article(article):\n",
    "    # Remove \"(CNN) -- \"\n",
    "    index = article.find('(CNN) -- ')\n",
    "    if index > -1:\n",
    "        article = article[index+len('(CNN)'):]\n",
    "    # Removing source information    \n",
    "    article = re.sub(r'By\\s\\..*?\\s\\.', '', article)\n",
    "    article = re.sub(r'PUBLISHED:\\s\\..*?\\s\\.', '', article)\n",
    "    article = re.sub(r'UPDATED:\\s\\..*?\\s\\.', '', article)\n",
    "    # Removing space before period \".\"\n",
    "    article = re.sub(r'\\s(\\.)', r'\\1', article)\n",
    "    # Removing unwanted periods\n",
    "    cleaned_article = re.sub(r'\\.\\s([a-z0-9])', r' \\1', article)\n",
    "    # Removing hypens \n",
    "    article = re.sub(r'-', r' ', cleaned_article)\n",
    "    # Removing all punctuations except period and hypens\n",
    "    article = re.sub(r'[^\\w\\s\\.-]', '', article)\n",
    "    # Removing multiple spaces in-between words\n",
    "    article = re.sub(r'\\s{1,}', r' ', article)\n",
    "    return article, cleaned_article"
   ]
  },
  {
   "cell_type": "code",
   "execution_count": 5,
   "id": "d6e30ec7",
   "metadata": {},
   "outputs": [],
   "source": [
    "# Separating sentences \n",
    "def generate_sen(article):\n",
    "    original_sentences = nltk.tokenize.sent_tokenize(article)\n",
    "    original_sentences = [re.sub(r'\\.', '', sen).strip() for sen in original_sentences if len(sen) > 2]\n",
    "    # sentences = [sen.lower() for sen in sentences if len(sen) > 0]\n",
    "    return original_sentences"
   ]
  },
  {
   "cell_type": "code",
   "execution_count": 6,
   "id": "dba60b8f",
   "metadata": {},
   "outputs": [],
   "source": [
    "# Removing Stopwords and Lemmatization\n",
    "def stopwords_n_lemma(original_sentences):\n",
    "    cleaned_sentences = []\n",
    "    for sen in original_sentences:\n",
    "        new_sen = \"\"\n",
    "        for word in sen.split():\n",
    "            if word.lower() not in sw_spacy:\n",
    "                new_sen += word.lower() + \" \"\n",
    "        cleaned_sentences.append(\" \".join([token.lemma_ for token in en(new_sen.strip())]))\n",
    "    return cleaned_sentences"
   ]
  },
  {
   "cell_type": "code",
   "execution_count": 7,
   "id": "550fca6e",
   "metadata": {},
   "outputs": [],
   "source": [
    "def data_preprocess(articles):\n",
    "    original_articles = []\n",
    "    cleaned_articles = []\n",
    "    cleaned_articles_merged = []\n",
    "    for article in tqdm_notebook(articles):\n",
    "        article, cleaned_article = clean_article(article)\n",
    "        cleaned_sentences = stopwords_n_lemma(generate_sen(article))\n",
    "        original_articles.append(generate_sen(cleaned_article))\n",
    "        cleaned_articles.append(cleaned_sentences)\n",
    "        cleaned_articles_merged.append(\" \".join(cleaned_sentences))\n",
    "    return original_articles, cleaned_articles, cleaned_articles_merged"
   ]
  },
  {
   "cell_type": "code",
   "execution_count": 8,
   "id": "93100810",
   "metadata": {},
   "outputs": [
    {
     "data": {
      "application/vnd.jupyter.widget-view+json": {
       "model_id": "de927a66b23a4a3dacfd8297664deb6e",
       "version_major": 2,
       "version_minor": 0
      },
      "text/plain": [
       "  0%|          | 0/25000 [00:00<?, ?it/s]"
      ]
     },
     "metadata": {},
     "output_type": "display_data"
    }
   ],
   "source": [
    "articles = data_train['article'].values\n",
    "original_articles, cleaned_articles, cleaned_articles_merged = data_preprocess(articles)"
   ]
  },
  {
   "cell_type": "code",
   "execution_count": 17,
   "id": "f1867f26",
   "metadata": {},
   "outputs": [],
   "source": [
    "# Store cleaned data\n",
    "cleaned_training_data = [new_original_articles, cleaned_articles, cleaned_articles_merged]\n",
    "pickle.dump(cleaned_training_data, open(r\"Data\\\\cleaned_training_data.pkl\", \"wb\"))"
   ]
  },
  {
   "cell_type": "code",
   "execution_count": 33,
   "id": "cad9a6c9",
   "metadata": {},
   "outputs": [],
   "source": [
    "# Save dataframe\n",
    "data_train.reset_index(drop=True).to_csv(r\"Data\\\\cleaned_training_data.csv\", index=False)"
   ]
  }
 ],
 "metadata": {
  "kernelspec": {
   "display_name": "Python 3",
   "language": "python",
   "name": "python3"
  },
  "language_info": {
   "codemirror_mode": {
    "name": "ipython",
    "version": 3
   },
   "file_extension": ".py",
   "mimetype": "text/x-python",
   "name": "python",
   "nbconvert_exporter": "python",
   "pygments_lexer": "ipython3",
   "version": "3.8.8"
  }
 },
 "nbformat": 4,
 "nbformat_minor": 5
}
