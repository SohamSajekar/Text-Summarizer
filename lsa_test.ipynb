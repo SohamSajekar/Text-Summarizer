{
 "cells": [
  {
   "cell_type": "markdown",
   "id": "eafd499d",
   "metadata": {},
   "source": [
    "1. Input Matrix Creation:\n",
    "    a. Frequency of words\n",
    "    b. Binary representation\n",
    "    c. TF-IDF\n",
    "    d. Log-entropy\n",
    "    e. Root type\n",
    "2. SVD\n",
    "3. Sentence Selection\n",
    "  "
   ]
  },
  {
   "cell_type": "code",
   "execution_count": 31,
   "id": "8b0585bd",
   "metadata": {},
   "outputs": [],
   "source": [
    "# !pip install gensim"
   ]
  },
  {
   "cell_type": "code",
   "execution_count": 30,
   "id": "4809948b",
   "metadata": {},
   "outputs": [],
   "source": [
    "import pandas as pd\n",
    "import gensim\n",
    "from sklearn.feature_extraction.text import CountVectorizer\n",
    "from sklearn.feature_extraction.text import TfidfVectorizer\n",
    "from sklearn.decomposition import TruncatedSVD\n",
    "import nltk\n",
    "from nltk.corpus import stopwords\n",
    "from nltk.tokenize import word_tokenize"
   ]
  },
  {
   "cell_type": "code",
   "execution_count": 33,
   "id": "8c3cc439",
   "metadata": {},
   "outputs": [],
   "source": [
    "# nltk.download('punkt')\n",
    "# nltk.download('stopwords')"
   ]
  },
  {
   "cell_type": "code",
   "execution_count": 34,
   "id": "7a48d3bd",
   "metadata": {},
   "outputs": [],
   "source": [
    "cnn_data=pd.read_csv(r\"dataset\\\\cnn_dailymail\\\\train.csv\")"
   ]
  },
  {
   "cell_type": "code",
   "execution_count": 35,
   "id": "bd5a6200",
   "metadata": {},
   "outputs": [
    {
     "data": {
      "text/plain": [
       "0         By . Associated Press . PUBLISHED: . 14:11 EST...\n",
       "1         (CNN) -- Ralph Mata was an internal affairs li...\n",
       "2         A drunk driver who killed a young woman in a h...\n",
       "3         (CNN) -- With a breezy sweep of his pen Presid...\n",
       "4         Fleetwood are the only team still to have a 10...\n",
       "                                ...                        \n",
       "287108    By . James Rush . Former first daughter Chelse...\n",
       "287109    An apologetic Vanilla Ice has given his first ...\n",
       "287110    America's most lethal sniper claimed he wished...\n",
       "287111    By . Sara Malm . PUBLISHED: . 12:19 EST, 8 Mar...\n",
       "287112    (CNN)Former Florida Gov. Jeb Bush has decided ...\n",
       "Name: article, Length: 287113, dtype: object"
      ]
     },
     "execution_count": 35,
     "metadata": {},
     "output_type": "execute_result"
    }
   ],
   "source": [
    "cnn_data[\"article\"]"
   ]
  },
  {
   "cell_type": "code",
   "execution_count": 36,
   "id": "d61fc2d7",
   "metadata": {},
   "outputs": [
    {
     "name": "stdout",
     "output_type": "stream",
     "text": [
      "['(CNN) -- Ralph Mata was an internal affairs lieutenant for the Miami-Dade Police Department, working in the division that investigates allegations of wrongdoing by cops.', 'Outside the office, authorities allege that the 45-year-old longtime officer worked with a drug trafficking organization to help plan a murder plot and get guns.', 'A criminal complaint unsealed in U.S. District Court in New Jersey Tuesday accuses Mata, also known as \"The Milk Man,\" of using his role as a police officer to help the drug trafficking organization in exchange for money and gifts, including a Rolex watch.', 'In one instance, the complaint alleges, Mata arranged to pay two assassins to kill rival drug dealers.', 'The killers would pose as cops, pulling over their targets before shooting them, according to the complaint.', '\"Ultimately, the (organization) decided not to move forward with the murder plot, but Mata still received a payment for setting up the meetings,\" federal prosecutors said in a statement.', 'The complaint also alleges that Mata used his police badge to purchase weapons for drug traffickers.', 'Mata, according to the complaint, then used contacts at the airport to transport the weapons in his carry-on luggage on trips from Miami to the Dominican Republic.', 'Court documents released by investigators do not specify the name of the drug trafficking organization with which Mata allegedly conspired but says the organization has been importing narcotics from places such as Ecuador and the Dominican Republic by hiding them \"inside shipping containers containing pallets of produce, including bananas.\"', 'The organization \"has been distributing narcotics in New Jersey and elsewhere,\" the complaint says.', 'Authorities arrested Mata on Tuesday in Miami Gardens, Florida.', 'It was not immediately clear whether Mata has an attorney, and police officials could not be immediately reached for comment.', 'Mata has worked for the Miami-Dade Police Department since 1992, including directing investigations in Miami Gardens and working as a lieutenant in the K-9 unit at Miami International Airport, according to the complaint.', 'Since March 2010, he had been working in the internal affairs division.', 'Mata faces charges of aiding and abetting a conspiracy to distribute cocaine, conspiring to distribute cocaine and engaging in monetary transactions in property derived from specified unlawful activity.', 'He is scheduled to appear in federal court in Florida on Wednesday.', 'If convicted, Mata could face life in prison.', \"CNN's Suzanne Presto contributed to this report.\"]\n"
     ]
    }
   ],
   "source": [
    "doc=cnn_data[\"article\"][1]\n",
    "doc=nltk. tokenize. sent_tokenize(doc)\n",
    "print(doc)"
   ]
  },
  {
   "cell_type": "code",
   "execution_count": 66,
   "id": "f549ba5f",
   "metadata": {},
   "outputs": [],
   "source": [
    "#Preprocess_data\n",
    "#only tokenization and removal of stop words\n",
    "#can be added: stemming or lemmatization\n",
    "\n",
    "def preprocess(dataset):\n",
    "    prep_list=[]\n",
    "    stop_words=set(stopwords.words('English'))\n",
    "    for each_sen in dataset:\n",
    "        word_tokens=word_tokenize(each_sen)\n",
    "        prep_list.append(word_tokens)\n",
    "       # prep_list.append([w for w in word_tokens if w.lower() not in stop_words])\n",
    "    return prep_list\n",
    "  "
   ]
  },
  {
   "cell_type": "code",
   "execution_count": 67,
   "id": "2535f66a",
   "metadata": {},
   "outputs": [
    {
     "name": "stdout",
     "output_type": "stream",
     "text": [
      "[['(', 'CNN', ')', '--', 'Ralph', 'Mata', 'was', 'an', 'internal', 'affairs', 'lieutenant', 'for', 'the', 'Miami-Dade', 'Police', 'Department', ',', 'working', 'in', 'the', 'division', 'that', 'investigates', 'allegations', 'of', 'wrongdoing', 'by', 'cops', '.'], ['Outside', 'the', 'office', ',', 'authorities', 'allege', 'that', 'the', '45-year-old', 'longtime', 'officer', 'worked', 'with', 'a', 'drug', 'trafficking', 'organization', 'to', 'help', 'plan', 'a', 'murder', 'plot', 'and', 'get', 'guns', '.'], ['A', 'criminal', 'complaint', 'unsealed', 'in', 'U.S.', 'District', 'Court', 'in', 'New', 'Jersey', 'Tuesday', 'accuses', 'Mata', ',', 'also', 'known', 'as', '``', 'The', 'Milk', 'Man', ',', \"''\", 'of', 'using', 'his', 'role', 'as', 'a', 'police', 'officer', 'to', 'help', 'the', 'drug', 'trafficking', 'organization', 'in', 'exchange', 'for', 'money', 'and', 'gifts', ',', 'including', 'a', 'Rolex', 'watch', '.'], ['In', 'one', 'instance', ',', 'the', 'complaint', 'alleges', ',', 'Mata', 'arranged', 'to', 'pay', 'two', 'assassins', 'to', 'kill', 'rival', 'drug', 'dealers', '.'], ['The', 'killers', 'would', 'pose', 'as', 'cops', ',', 'pulling', 'over', 'their', 'targets', 'before', 'shooting', 'them', ',', 'according', 'to', 'the', 'complaint', '.'], ['``', 'Ultimately', ',', 'the', '(', 'organization', ')', 'decided', 'not', 'to', 'move', 'forward', 'with', 'the', 'murder', 'plot', ',', 'but', 'Mata', 'still', 'received', 'a', 'payment', 'for', 'setting', 'up', 'the', 'meetings', ',', \"''\", 'federal', 'prosecutors', 'said', 'in', 'a', 'statement', '.'], ['The', 'complaint', 'also', 'alleges', 'that', 'Mata', 'used', 'his', 'police', 'badge', 'to', 'purchase', 'weapons', 'for', 'drug', 'traffickers', '.'], ['Mata', ',', 'according', 'to', 'the', 'complaint', ',', 'then', 'used', 'contacts', 'at', 'the', 'airport', 'to', 'transport', 'the', 'weapons', 'in', 'his', 'carry-on', 'luggage', 'on', 'trips', 'from', 'Miami', 'to', 'the', 'Dominican', 'Republic', '.'], ['Court', 'documents', 'released', 'by', 'investigators', 'do', 'not', 'specify', 'the', 'name', 'of', 'the', 'drug', 'trafficking', 'organization', 'with', 'which', 'Mata', 'allegedly', 'conspired', 'but', 'says', 'the', 'organization', 'has', 'been', 'importing', 'narcotics', 'from', 'places', 'such', 'as', 'Ecuador', 'and', 'the', 'Dominican', 'Republic', 'by', 'hiding', 'them', '``', 'inside', 'shipping', 'containers', 'containing', 'pallets', 'of', 'produce', ',', 'including', 'bananas', '.', \"''\"], ['The', 'organization', '``', 'has', 'been', 'distributing', 'narcotics', 'in', 'New', 'Jersey', 'and', 'elsewhere', ',', \"''\", 'the', 'complaint', 'says', '.'], ['Authorities', 'arrested', 'Mata', 'on', 'Tuesday', 'in', 'Miami', 'Gardens', ',', 'Florida', '.'], ['It', 'was', 'not', 'immediately', 'clear', 'whether', 'Mata', 'has', 'an', 'attorney', ',', 'and', 'police', 'officials', 'could', 'not', 'be', 'immediately', 'reached', 'for', 'comment', '.'], ['Mata', 'has', 'worked', 'for', 'the', 'Miami-Dade', 'Police', 'Department', 'since', '1992', ',', 'including', 'directing', 'investigations', 'in', 'Miami', 'Gardens', 'and', 'working', 'as', 'a', 'lieutenant', 'in', 'the', 'K-9', 'unit', 'at', 'Miami', 'International', 'Airport', ',', 'according', 'to', 'the', 'complaint', '.'], ['Since', 'March', '2010', ',', 'he', 'had', 'been', 'working', 'in', 'the', 'internal', 'affairs', 'division', '.'], ['Mata', 'faces', 'charges', 'of', 'aiding', 'and', 'abetting', 'a', 'conspiracy', 'to', 'distribute', 'cocaine', ',', 'conspiring', 'to', 'distribute', 'cocaine', 'and', 'engaging', 'in', 'monetary', 'transactions', 'in', 'property', 'derived', 'from', 'specified', 'unlawful', 'activity', '.'], ['He', 'is', 'scheduled', 'to', 'appear', 'in', 'federal', 'court', 'in', 'Florida', 'on', 'Wednesday', '.'], ['If', 'convicted', ',', 'Mata', 'could', 'face', 'life', 'in', 'prison', '.'], ['CNN', \"'s\", 'Suzanne', 'Presto', 'contributed', 'to', 'this', 'report', '.']]\n"
     ]
    }
   ],
   "source": [
    "prep_list=preprocess(doc)\n",
    "print(prep_list)\n"
   ]
  },
  {
   "cell_type": "code",
   "execution_count": 19,
   "id": "c3922675",
   "metadata": {},
   "outputs": [],
   "source": [
    "#Input Matrix Creation- document term matrix\n",
    "#This method uses TF-IDF\n",
    "vectorizer=TfidfVectorizer(min_df=1,stop_words='english')\n",
    "vec_each_doc= vectorizer.fit_transform(doc)\n",
    "\n",
    "\n",
    "# Create dataFrame\n",
    "#doc_term_m = pd.DataFrame(vec_each_doc.toarray().transpose(),index=vectorizer.get_feature_names())\n",
    "\n",
    "   "
   ]
  },
  {
   "cell_type": "code",
   "execution_count": 20,
   "id": "e84fd81c",
   "metadata": {},
   "outputs": [
    {
     "name": "stdout",
     "output_type": "stream",
     "text": [
      "[[0.         0.         0.         ... 0.22825408 0.29010112 0.        ]\n",
      " [0.         0.         0.25740536 ... 0.         0.         0.25740536]\n",
      " [0.         0.         0.         ... 0.         0.         0.        ]\n",
      " ...\n",
      " [0.         0.         0.         ... 0.         0.         0.        ]\n",
      " [0.         0.         0.         ... 0.         0.         0.        ]\n",
      " [0.         0.         0.         ... 0.         0.         0.        ]]\n"
     ]
    }
   ],
   "source": [
    "#Document term matrix created- populated using tfidf\n",
    "print(vec_each_doc.todense())\n",
    "#rows- words\n",
    "#columns- sen1, sen2, sen3\n",
    "#print(doc_term_m)"
   ]
  },
  {
   "cell_type": "code",
   "execution_count": 22,
   "id": "d879be70",
   "metadata": {},
   "outputs": [],
   "source": [
    "#Singular value decomposition\n",
    "\n",
    "#This process encodes our original data into topic encoded data\n",
    "svd = TruncatedSVD(n_components = 2) #n_components mean how many topics to represent.\n",
    "lsa = svd.fit_transform(vec_each_doc)\n"
   ]
  },
  {
   "cell_type": "code",
   "execution_count": 33,
   "id": "9c79c2b2",
   "metadata": {},
   "outputs": [
    {
     "data": {
      "text/html": [
       "<div>\n",
       "<style scoped>\n",
       "    .dataframe tbody tr th:only-of-type {\n",
       "        vertical-align: middle;\n",
       "    }\n",
       "\n",
       "    .dataframe tbody tr th {\n",
       "        vertical-align: top;\n",
       "    }\n",
       "\n",
       "    .dataframe thead th {\n",
       "        text-align: right;\n",
       "    }\n",
       "</style>\n",
       "<table border=\"1\" class=\"dataframe\">\n",
       "  <thead>\n",
       "    <tr style=\"text-align: right;\">\n",
       "      <th></th>\n",
       "      <th>topic1</th>\n",
       "      <th>topic2</th>\n",
       "    </tr>\n",
       "  </thead>\n",
       "  <tbody>\n",
       "    <tr>\n",
       "      <th>0</th>\n",
       "      <td>0.517983</td>\n",
       "      <td>0.583820</td>\n",
       "    </tr>\n",
       "    <tr>\n",
       "      <th>1</th>\n",
       "      <td>0.251818</td>\n",
       "      <td>-0.344732</td>\n",
       "    </tr>\n",
       "    <tr>\n",
       "      <th>2</th>\n",
       "      <td>0.399779</td>\n",
       "      <td>-0.384354</td>\n",
       "    </tr>\n",
       "    <tr>\n",
       "      <th>3</th>\n",
       "      <td>0.269031</td>\n",
       "      <td>-0.147981</td>\n",
       "    </tr>\n",
       "    <tr>\n",
       "      <th>4</th>\n",
       "      <td>0.227607</td>\n",
       "      <td>0.085825</td>\n",
       "    </tr>\n",
       "    <tr>\n",
       "      <th>5</th>\n",
       "      <td>0.158917</td>\n",
       "      <td>-0.276864</td>\n",
       "    </tr>\n",
       "    <tr>\n",
       "      <th>6</th>\n",
       "      <td>0.431076</td>\n",
       "      <td>-0.147794</td>\n",
       "    </tr>\n",
       "    <tr>\n",
       "      <th>7</th>\n",
       "      <td>0.482579</td>\n",
       "      <td>-0.021191</td>\n",
       "    </tr>\n",
       "    <tr>\n",
       "      <th>8</th>\n",
       "      <td>0.313877</td>\n",
       "      <td>-0.448877</td>\n",
       "    </tr>\n",
       "    <tr>\n",
       "      <th>9</th>\n",
       "      <td>0.290652</td>\n",
       "      <td>-0.388112</td>\n",
       "    </tr>\n",
       "    <tr>\n",
       "      <th>10</th>\n",
       "      <td>0.415243</td>\n",
       "      <td>0.062149</td>\n",
       "    </tr>\n",
       "    <tr>\n",
       "      <th>11</th>\n",
       "      <td>0.160510</td>\n",
       "      <td>-0.043394</td>\n",
       "    </tr>\n",
       "    <tr>\n",
       "      <th>12</th>\n",
       "      <td>0.629872</td>\n",
       "      <td>0.318883</td>\n",
       "    </tr>\n",
       "    <tr>\n",
       "      <th>13</th>\n",
       "      <td>0.258092</td>\n",
       "      <td>0.491355</td>\n",
       "    </tr>\n",
       "    <tr>\n",
       "      <th>14</th>\n",
       "      <td>0.049232</td>\n",
       "      <td>-0.027912</td>\n",
       "    </tr>\n",
       "    <tr>\n",
       "      <th>15</th>\n",
       "      <td>0.129049</td>\n",
       "      <td>-0.147021</td>\n",
       "    </tr>\n",
       "    <tr>\n",
       "      <th>16</th>\n",
       "      <td>0.107527</td>\n",
       "      <td>-0.043036</td>\n",
       "    </tr>\n",
       "    <tr>\n",
       "      <th>17</th>\n",
       "      <td>0.052300</td>\n",
       "      <td>0.161182</td>\n",
       "    </tr>\n",
       "  </tbody>\n",
       "</table>\n",
       "</div>"
      ],
      "text/plain": [
       "      topic1    topic2\n",
       "0   0.517983  0.583820\n",
       "1   0.251818 -0.344732\n",
       "2   0.399779 -0.384354\n",
       "3   0.269031 -0.147981\n",
       "4   0.227607  0.085825\n",
       "5   0.158917 -0.276864\n",
       "6   0.431076 -0.147794\n",
       "7   0.482579 -0.021191\n",
       "8   0.313877 -0.448877\n",
       "9   0.290652 -0.388112\n",
       "10  0.415243  0.062149\n",
       "11  0.160510 -0.043394\n",
       "12  0.629872  0.318883\n",
       "13  0.258092  0.491355\n",
       "14  0.049232 -0.027912\n",
       "15  0.129049 -0.147021\n",
       "16  0.107527 -0.043036\n",
       "17  0.052300  0.161182"
      ]
     },
     "metadata": {},
     "output_type": "display_data"
    }
   ],
   "source": [
    "topic_encoded_df = pd.DataFrame(lsa, columns=[\"topic1\", \"topic2\"])\n",
    "#topic_encoded_df[\"doc\"]= doc\n",
    "display(topic_encoded_df[[\"topic1\",\"topic2\"]])\n"
   ]
  },
  {
   "cell_type": "code",
   "execution_count": 34,
   "id": "6240bf0e",
   "metadata": {},
   "outputs": [
    {
     "name": "stdout",
     "output_type": "stream",
     "text": [
      "['1992', '2010', '45', 'abetting', 'according', 'accuses', 'activity', 'affairs', 'aiding', 'airport', 'allegations', 'allege', 'allegedly', 'alleges', 'appear', 'arranged', 'arrested', 'assassins', 'attorney', 'authorities', 'badge', 'bananas', 'carry', 'charges', 'clear', 'cnn', 'cocaine', 'comment', 'complaint', 'conspiracy', 'conspired', 'conspiring', 'contacts', 'containers', 'containing', 'contributed', 'convicted', 'cops', 'court', 'criminal', 'dade', 'dealers', 'decided', 'department', 'derived', 'directing', 'distribute', 'distributing', 'district', 'division', 'documents', 'dominican', 'drug', 'ecuador', 'engaging', 'exchange', 'face', 'faces', 'federal', 'florida', 'forward', 'gardens', 'gifts', 'guns', 'help', 'hiding', 'immediately', 'importing', 'including', 'inside', 'instance', 'internal', 'international', 'investigates', 'investigations', 'investigators', 'jersey', 'kill', 'killers', 'known', 'lieutenant', 'life', 'longtime', 'luggage', 'man', 'march', 'mata', 'meetings', 'miami', 'milk', 'monetary', 'money', 'murder', 'narcotics', 'new', 'office', 'officer', 'officials', 'old', 'organization', 'outside', 'pallets', 'pay', 'payment', 'places', 'plan', 'plot', 'police', 'pose', 'presto', 'prison', 'produce', 'property', 'prosecutors', 'pulling', 'purchase', 'ralph', 'reached', 'received', 'released', 'report', 'republic', 'rival', 'role', 'rolex', 'said', 'says', 'scheduled', 'setting', 'shipping', 'shooting', 'specified', 'specify', 'statement', 'suzanne', 'targets', 'traffickers', 'trafficking', 'transactions', 'transport', 'trips', 'tuesday', 'ultimately', 'unit', 'unlawful', 'unsealed', 'used', 'using', 'watch', 'weapons', 'wednesday', 'worked', 'working', 'wrongdoing', 'year']\n"
     ]
    }
   ],
   "source": [
    "dictionary = vectorizer.get_feature_names()\n",
    "print(dictionary)"
   ]
  },
  {
   "cell_type": "code",
   "execution_count": 35,
   "id": "aa184d8e",
   "metadata": {},
   "outputs": [
    {
     "data": {
      "text/html": [
       "<div>\n",
       "<style scoped>\n",
       "    .dataframe tbody tr th:only-of-type {\n",
       "        vertical-align: middle;\n",
       "    }\n",
       "\n",
       "    .dataframe tbody tr th {\n",
       "        vertical-align: top;\n",
       "    }\n",
       "\n",
       "    .dataframe thead th {\n",
       "        text-align: right;\n",
       "    }\n",
       "</style>\n",
       "<table border=\"1\" class=\"dataframe\">\n",
       "  <thead>\n",
       "    <tr style=\"text-align: right;\">\n",
       "      <th></th>\n",
       "      <th>topic1</th>\n",
       "      <th>topic2</th>\n",
       "    </tr>\n",
       "  </thead>\n",
       "  <tbody>\n",
       "    <tr>\n",
       "      <th>1992</th>\n",
       "      <td>0.078533</td>\n",
       "      <td>0.052404</td>\n",
       "    </tr>\n",
       "    <tr>\n",
       "      <th>2010</th>\n",
       "      <td>0.060430</td>\n",
       "      <td>0.148136</td>\n",
       "    </tr>\n",
       "    <tr>\n",
       "      <th>45</th>\n",
       "      <td>0.033941</td>\n",
       "      <td>-0.061289</td>\n",
       "    </tr>\n",
       "    <tr>\n",
       "      <th>abetting</th>\n",
       "      <td>0.005427</td>\n",
       "      <td>-0.005167</td>\n",
       "    </tr>\n",
       "    <tr>\n",
       "      <th>according</th>\n",
       "      <td>0.158092</td>\n",
       "      <td>0.054614</td>\n",
       "    </tr>\n",
       "    <tr>\n",
       "      <th>...</th>\n",
       "      <td>...</td>\n",
       "      <td>...</td>\n",
       "    </tr>\n",
       "    <tr>\n",
       "      <th>wednesday</th>\n",
       "      <td>0.029551</td>\n",
       "      <td>-0.045756</td>\n",
       "    </tr>\n",
       "    <tr>\n",
       "      <th>worked</th>\n",
       "      <td>0.098448</td>\n",
       "      <td>-0.007777</td>\n",
       "    </tr>\n",
       "    <tr>\n",
       "      <th>working</th>\n",
       "      <td>0.170435</td>\n",
       "      <td>0.246434</td>\n",
       "    </tr>\n",
       "    <tr>\n",
       "      <th>wrongdoing</th>\n",
       "      <td>0.077652</td>\n",
       "      <td>0.112667</td>\n",
       "    </tr>\n",
       "    <tr>\n",
       "      <th>year</th>\n",
       "      <td>0.033941</td>\n",
       "      <td>-0.061289</td>\n",
       "    </tr>\n",
       "  </tbody>\n",
       "</table>\n",
       "<p>155 rows × 2 columns</p>\n",
       "</div>"
      ],
      "text/plain": [
       "              topic1    topic2\n",
       "1992        0.078533  0.052404\n",
       "2010        0.060430  0.148136\n",
       "45          0.033941 -0.061289\n",
       "abetting    0.005427 -0.005167\n",
       "according   0.158092  0.054614\n",
       "...              ...       ...\n",
       "wednesday   0.029551 -0.045756\n",
       "worked      0.098448 -0.007777\n",
       "working     0.170435  0.246434\n",
       "wrongdoing  0.077652  0.112667\n",
       "year        0.033941 -0.061289\n",
       "\n",
       "[155 rows x 2 columns]"
      ]
     },
     "execution_count": 35,
     "metadata": {},
     "output_type": "execute_result"
    }
   ],
   "source": [
    "encoding_matrix=pd.DataFrame(svd.components_,index=[\"topic1\",\"topic2\"],columns=dictionary).T\n",
    "encoding_matrix"
   ]
  },
  {
   "cell_type": "code",
   "execution_count": 36,
   "id": "66893ed3",
   "metadata": {},
   "outputs": [
    {
     "name": "stdout",
     "output_type": "stream",
     "text": [
      "Topic1: 9.40370332380197 \n",
      " Topic2: -2.7314736604210426\n"
     ]
    }
   ],
   "source": [
    "print(\"Topic1:\", encoding_matrix[\"topic1\"].sum(), \"\\n\",\"Topic2:\", encoding_matrix[\"topic2\"].sum())"
   ]
  },
  {
   "cell_type": "code",
   "execution_count": 56,
   "id": "d84d4922",
   "metadata": {},
   "outputs": [],
   "source": [
    "sorted_em=encoding_matrix.sort_values(by=['topic1'], ascending=False)[0:2]"
   ]
  },
  {
   "cell_type": "code",
   "execution_count": 58,
   "id": "0fd74e9c",
   "metadata": {},
   "outputs": [
    {
     "data": {
      "text/plain": [
       "Index(['miami', 'mata'], dtype='object')"
      ]
     },
     "execution_count": 58,
     "metadata": {},
     "output_type": "execute_result"
    }
   ],
   "source": [
    "sorted_em.index"
   ]
  },
  {
   "cell_type": "code",
   "execution_count": 57,
   "id": "6209ba08",
   "metadata": {},
   "outputs": [
    {
     "data": {
      "text/plain": [
       "0"
      ]
     },
     "execution_count": 57,
     "metadata": {},
     "output_type": "execute_result"
    }
   ],
   "source": [
    "selected_sen = []\n",
    "for each_sen in doc:\n",
    "    for word in sorted_em.index:\n",
    "        if (word in each_sen) & (each_sen not in selected_sen):\n",
    "            selected_sen.append(each_sen)\n",
    "len(selected_sen)           "
   ]
  },
  {
   "cell_type": "code",
   "execution_count": 55,
   "id": "70e4c8c8",
   "metadata": {},
   "outputs": [
    {
     "data": {
      "text/plain": [
       "['A criminal complaint unsealed in U.S. District Court in New Jersey Tuesday accuses Mata, also known as \"The Milk Man,\" of using his role as a police officer to help the drug trafficking organization in exchange for money and gifts, including a Rolex watch.',\n",
       " 'In one instance, the complaint alleges, Mata arranged to pay two assassins to kill rival drug dealers.',\n",
       " 'The killers would pose as cops, pulling over their targets before shooting them, according to the complaint.',\n",
       " 'The complaint also alleges that Mata used his police badge to purchase weapons for drug traffickers.',\n",
       " 'Mata, according to the complaint, then used contacts at the airport to transport the weapons in his carry-on luggage on trips from Miami to the Dominican Republic.',\n",
       " 'The organization \"has been distributing narcotics in New Jersey and elsewhere,\" the complaint says.',\n",
       " 'It was not immediately clear whether Mata has an attorney, and police officials could not be immediately reached for comment.',\n",
       " 'Mata has worked for the Miami-Dade Police Department since 1992, including directing investigations in Miami Gardens and working as a lieutenant in the K-9 unit at Miami International Airport, according to the complaint.']"
      ]
     },
     "execution_count": 55,
     "metadata": {},
     "output_type": "execute_result"
    }
   ],
   "source": [
    "selected_sen"
   ]
  },
  {
   "cell_type": "code",
   "execution_count": null,
   "id": "2f0586f2",
   "metadata": {},
   "outputs": [],
   "source": []
  },
  {
   "cell_type": "code",
   "execution_count": null,
   "id": "6ec75b4f",
   "metadata": {},
   "outputs": [],
   "source": []
  },
  {
   "cell_type": "code",
   "execution_count": 37,
   "id": "34df330a",
   "metadata": {},
   "outputs": [
    {
     "data": {
      "text/plain": [
       "0     (CNN) -- Ralph Mata was an internal affairs li...\n",
       "1     Outside the office, authorities allege that th...\n",
       "2     A criminal complaint unsealed in U.S. District...\n",
       "3     In one instance, the complaint alleges, Mata a...\n",
       "4     The killers would pose as cops, pulling over t...\n",
       "5     \"Ultimately, the (organization) decided not to...\n",
       "6     The complaint also alleges that Mata used his ...\n",
       "7     Mata, according to the complaint, then used co...\n",
       "8     Court documents released by investigators do n...\n",
       "9     The organization \"has been distributing narcot...\n",
       "10    Authorities arrested Mata on Tuesday in Miami ...\n",
       "11    It was not immediately clear whether Mata has ...\n",
       "12    Mata has worked for the Miami-Dade Police Depa...\n",
       "13    Since March 2010, he had been working in the i...\n",
       "14    Mata faces charges of aiding and abetting a co...\n",
       "15    He is scheduled to appear in federal court in ...\n",
       "16        If convicted, Mata could face life in prison.\n",
       "17     CNN's Suzanne Presto contributed to this report.\n",
       "Name: sentences, dtype: object"
      ]
     },
     "execution_count": 37,
     "metadata": {},
     "output_type": "execute_result"
    }
   ],
   "source": [
    "doc1 = cnn_data[\"article\"][1]\n",
    "doc1 = nltk. tokenize. sent_tokenize(doc1)\n",
    "doc1 = pd.DataFrame(doc1)\n",
    "doc1.columns = [\"sentences\"]\n",
    "doc1['sentences']"
   ]
  },
  {
   "cell_type": "code",
   "execution_count": 45,
   "id": "5b21a4fd",
   "metadata": {},
   "outputs": [
    {
     "data": {
      "text/plain": [
       "[['jshbf', 'skdjbjfd', 'kjsdbfjbd'], ['sdfg', 'dfgh', 'sdfgh', 'rtyu']]"
      ]
     },
     "execution_count": 45,
     "metadata": {},
     "output_type": "execute_result"
    }
   ],
   "source": [
    "y = [\"jshbf skdjbjfd kjsdbfjbd\", \"sdfg dfgh sdfgh rtyu\"]\n",
    "[[word for word in article.split(\" \")] for article in y]"
   ]
  },
  {
   "cell_type": "code",
   "execution_count": 39,
   "id": "bba7a5ac",
   "metadata": {},
   "outputs": [
    {
     "data": {
      "text/plain": [
       "[['(CNN)',\n",
       "  '--',\n",
       "  'Ralph',\n",
       "  'Mata',\n",
       "  'internal',\n",
       "  'affairs',\n",
       "  'lieutenant',\n",
       "  'Miami-Dade',\n",
       "  'Police',\n",
       "  'Department',\n",
       "  ', ',\n",
       "  'working',\n",
       "  'division',\n",
       "  'investigates',\n",
       "  'allegations',\n",
       "  'wrongdoing',\n",
       "  'cops'],\n",
       " ['Outside',\n",
       "  'office',\n",
       "  ', ',\n",
       "  'authorities',\n",
       "  'allege',\n",
       "  '45-year-old',\n",
       "  'longtime',\n",
       "  'officer',\n",
       "  'worked',\n",
       "  'drug',\n",
       "  'trafficking',\n",
       "  'organization',\n",
       "  'help',\n",
       "  'plan',\n",
       "  'murder',\n",
       "  'plot',\n",
       "  'get',\n",
       "  'guns'],\n",
       " ['criminal',\n",
       "  'complaint',\n",
       "  'unsealed',\n",
       "  'U',\n",
       "  '. ',\n",
       "  'District',\n",
       "  'Court',\n",
       "  'New',\n",
       "  'Jersey',\n",
       "  'Tuesday',\n",
       "  'accuses',\n",
       "  'Mata',\n",
       "  ', ',\n",
       "  'also',\n",
       "  'known',\n",
       "  '\"The',\n",
       "  'Milk',\n",
       "  'Man',\n",
       "  ',',\n",
       "  '\"',\n",
       "  'using',\n",
       "  'role',\n",
       "  'police',\n",
       "  'officer',\n",
       "  'help',\n",
       "  'drug',\n",
       "  'trafficking',\n",
       "  'organization',\n",
       "  'exchange',\n",
       "  'money',\n",
       "  'gifts',\n",
       "  ', ',\n",
       "  'including',\n",
       "  'Rolex',\n",
       "  'watch'],\n",
       " ['one',\n",
       "  'instance',\n",
       "  ', ',\n",
       "  'complaint',\n",
       "  'alleges',\n",
       "  ', ',\n",
       "  'Mata',\n",
       "  'arranged',\n",
       "  'pay',\n",
       "  'two',\n",
       "  'assassins',\n",
       "  'kill',\n",
       "  'rival',\n",
       "  'drug',\n",
       "  'dealers'],\n",
       " ['killers',\n",
       "  'would',\n",
       "  'pose',\n",
       "  'cops',\n",
       "  ', ',\n",
       "  'pulling',\n",
       "  'targets',\n",
       "  'shooting',\n",
       "  ', ',\n",
       "  'according',\n",
       "  'complaint'],\n",
       " ['\"Ultimately',\n",
       "  ', ',\n",
       "  '(organization)',\n",
       "  'decided',\n",
       "  'move',\n",
       "  'forward',\n",
       "  'murder',\n",
       "  'plot',\n",
       "  ', ',\n",
       "  'Mata',\n",
       "  'still',\n",
       "  'received',\n",
       "  'payment',\n",
       "  'setting',\n",
       "  'meetings',\n",
       "  ',',\n",
       "  '\"',\n",
       "  'federal',\n",
       "  'prosecutors',\n",
       "  'said',\n",
       "  'statement'],\n",
       " ['complaint',\n",
       "  'also',\n",
       "  'alleges',\n",
       "  'Mata',\n",
       "  'used',\n",
       "  'police',\n",
       "  'badge',\n",
       "  'purchase',\n",
       "  'weapons',\n",
       "  'drug',\n",
       "  'traffickers'],\n",
       " ['Mata',\n",
       "  ', ',\n",
       "  'according',\n",
       "  'complaint',\n",
       "  ', ',\n",
       "  'used',\n",
       "  'contacts',\n",
       "  'airport',\n",
       "  'transport',\n",
       "  'weapons',\n",
       "  'carry-on',\n",
       "  'luggage',\n",
       "  'trips',\n",
       "  'Miami',\n",
       "  'Dominican',\n",
       "  'Republic'],\n",
       " ['Court',\n",
       "  'documents',\n",
       "  'released',\n",
       "  'investigators',\n",
       "  'specify',\n",
       "  'name',\n",
       "  'drug',\n",
       "  'trafficking',\n",
       "  'organization',\n",
       "  'Mata',\n",
       "  'allegedly',\n",
       "  'conspired',\n",
       "  'says',\n",
       "  'organization',\n",
       "  'importing',\n",
       "  'narcotics',\n",
       "  'places',\n",
       "  'Ecuador',\n",
       "  'Dominican',\n",
       "  'Republic',\n",
       "  'hiding',\n",
       "  '\"inside',\n",
       "  'shipping',\n",
       "  'containers',\n",
       "  'containing',\n",
       "  'pallets',\n",
       "  'produce',\n",
       "  ', ',\n",
       "  'including',\n",
       "  'bananas',\n",
       "  '\"'],\n",
       " ['organization',\n",
       "  '\"has',\n",
       "  'distributing',\n",
       "  'narcotics',\n",
       "  'New',\n",
       "  'Jersey',\n",
       "  'elsewhere',\n",
       "  ',',\n",
       "  '\"',\n",
       "  'complaint',\n",
       "  'says'],\n",
       " ['Authorities',\n",
       "  'arrested',\n",
       "  'Mata',\n",
       "  'Tuesday',\n",
       "  'Miami',\n",
       "  'Gardens',\n",
       "  ', ',\n",
       "  'Florida'],\n",
       " ['immediately',\n",
       "  'clear',\n",
       "  'whether',\n",
       "  'Mata',\n",
       "  'attorney',\n",
       "  ', ',\n",
       "  'police',\n",
       "  'officials',\n",
       "  'could',\n",
       "  'immediately',\n",
       "  'reached',\n",
       "  'comment'],\n",
       " ['Mata',\n",
       "  'worked',\n",
       "  'Miami-Dade',\n",
       "  'Police',\n",
       "  'Department',\n",
       "  'since',\n",
       "  '1992',\n",
       "  ', ',\n",
       "  'including',\n",
       "  'directing',\n",
       "  'investigations',\n",
       "  'Miami',\n",
       "  'Gardens',\n",
       "  'working',\n",
       "  'lieutenant',\n",
       "  'K-9',\n",
       "  'unit',\n",
       "  'Miami',\n",
       "  'International',\n",
       "  'Airport',\n",
       "  ', ',\n",
       "  'according',\n",
       "  'complaint'],\n",
       " ['Since',\n",
       "  'March',\n",
       "  '2010',\n",
       "  ', ',\n",
       "  'working',\n",
       "  'internal',\n",
       "  'affairs',\n",
       "  'division'],\n",
       " ['Mata',\n",
       "  'faces',\n",
       "  'charges',\n",
       "  'aiding',\n",
       "  'abetting',\n",
       "  'conspiracy',\n",
       "  'distribute',\n",
       "  'cocaine',\n",
       "  ', ',\n",
       "  'conspiring',\n",
       "  'distribute',\n",
       "  'cocaine',\n",
       "  'engaging',\n",
       "  'monetary',\n",
       "  'transactions',\n",
       "  'property',\n",
       "  'derived',\n",
       "  'specified',\n",
       "  'unlawful',\n",
       "  'activity'],\n",
       " ['scheduled', 'appear', 'federal', 'court', 'Florida', 'Wednesday'],\n",
       " ['convicted', ', ', 'Mata', 'could', 'face', 'life', 'prison'],\n",
       " [\"CNN's\", 'Suzanne', 'Presto', 'contributed', 'report']]"
      ]
     },
     "execution_count": 39,
     "metadata": {},
     "output_type": "execute_result"
    }
   ],
   "source": [
    "from gensim import corpora\n",
    "from gensim.models.ldamodel import LdaModel\n",
    "import re\n",
    "from gensim.models import TfidfModel, LsiModel\n",
    "from gensim.models.ldamodel import LdaModel\n",
    "from gensim import matutils\n",
    "from sklearn.cluster import KMeans\n",
    "from collections import defaultdict\n",
    "from nltk.corpus import stopwords\n",
    "stop_words = stopwords.words(\"english\")\n",
    "\n",
    "def tokenize(text):\n",
    "    text_wordlist = []\n",
    "    for x in re.split(r\"([.,!?\\s]+)\", text):\n",
    "        if x and x not in [\".\", \" \"] and x.lower() not in stop_words:\n",
    "            text_wordlist.append(x)\n",
    "    return(text_wordlist)\n",
    "\n",
    "list(doc1['sentences'].apply( lambda texts: tokenize(texts)))"
   ]
  },
  {
   "cell_type": "code",
   "execution_count": 89,
   "id": "8ab20ee9",
   "metadata": {},
   "outputs": [
    {
     "name": "stdout",
     "output_type": "stream",
     "text": [
      "LdaModel(num_terms=181, num_topics=3, decay=0.5, chunksize=2000)\n",
      "1: (0, '0.033*\", \" + 0.027*\"organization\" + 0.020*\"trafficking\" + 0.020*\"drug\" + 0.020*\"Mata\" + 0.014*\"officer\" + 0.014*\"\"\" + 0.014*\"Court\" + 0.014*\"Tuesday\" + 0.014*\"including\"')\n",
      "\n",
      "2: (1, '0.070*\", \" + 0.036*\"Mata\" + 0.019*\"Miami\" + 0.019*\"complaint\" + 0.019*\"working\" + 0.019*\"according\" + 0.013*\"Police\" + 0.013*\"internal\" + 0.013*\"division\" + 0.013*\"lieutenant\"')\n",
      "\n",
      "3: (2, '0.028*\", \" + 0.028*\"Mata\" + 0.028*\"complaint\" + 0.020*\"alleges\" + 0.020*\"distribute\" + 0.020*\"cocaine\" + 0.020*\"drug\" + 0.011*\"instance\" + 0.011*\"two\" + 0.011*\"kill\"')\n",
      "\n"
     ]
    }
   ],
   "source": [
    "from gensim import corpora\n",
    "from gensim.models.ldamodel import LdaModel\n",
    "import re\n",
    "from gensim.models import TfidfModel, LsiModel\n",
    "from gensim.models.ldamodel import LdaModel\n",
    "from gensim import matutils\n",
    "from sklearn.cluster import KMeans\n",
    "\n",
    "from collections import defaultdict\n",
    "from nltk.corpus import stopwords\n",
    "stop_words = stopwords.words(\"english\")\n",
    "\n",
    "def tokenize(text):\n",
    "    text_wordlist = []\n",
    "    for x in re.split(r\"([.,!?\\s]+)\", text):\n",
    "        if x and x not in [\".\", \" \"] and x.lower() not in stop_words:\n",
    "            text_wordlist.append(x)\n",
    "    return(text_wordlist)\n",
    "\n",
    "\n",
    "texts = list(doc1['sentences'].apply( lambda texts: tokenize(texts)))\n",
    "\n",
    "dictionary = corpora.Dictionary(texts)\n",
    "# print(dictionary.id2token) ## to see the actual dictionary generated\n",
    "corpus = [dictionary.doc2bow(text) for text in texts] ## document to bag of words\n",
    "\n",
    "# fit LDA model\n",
    "transcripts_topics = LdaModel(corpus=corpus,\n",
    "                           id2word=dictionary,\n",
    "                           num_topics=3,\n",
    "                           alpha='auto', ##Learns an asymmetric prior from the corpus;\n",
    "##1D array of length=number of expected topics that expresses our a-priori belief for the each topics’ probability.\n",
    "                           passes=100 ##Number of passes through the corpus during training.\n",
    "                             ) \n",
    "print(transcripts_topics)\n",
    "# print out first 5 topics\n",
    "for i, topic in enumerate(transcripts_topics.print_topics(3)):\n",
    "    print ('%d: %s\\n'%(i+1, topic))"
   ]
  },
  {
   "cell_type": "code",
   "execution_count": 101,
   "id": "2ec4d9e9",
   "metadata": {},
   "outputs": [
    {
     "data": {
      "text/plain": [
       "{'Topic_0': ['0.032653302-, ',\n",
       "  '0.026530785-organization',\n",
       "  '0.020408265-trafficking',\n",
       "  '0.020408265-drug',\n",
       "  '0.020408265-Mata',\n",
       "  '0.014285747-officer',\n",
       "  '0.014285747-\"',\n",
       "  '0.014285747-Court',\n",
       "  '0.014285747-Tuesday',\n",
       "  '0.014285747-including'],\n",
       " 'Topic_1': ['0.07034286-, ',\n",
       "  '0.03612195-Mata',\n",
       "  '0.01901149-Miami',\n",
       "  '0.019011488-complaint',\n",
       "  '0.019011488-working',\n",
       "  '0.019011488-according',\n",
       "  '0.013308003-Police',\n",
       "  '0.013308003-internal',\n",
       "  '0.013308003-division',\n",
       "  '0.013308003-lieutenant'],\n",
       " 'Topic_2': ['0.028409144-, ',\n",
       "  '0.028409144-Mata',\n",
       "  '0.028409144-complaint',\n",
       "  '0.01988636-alleges',\n",
       "  '0.01988636-distribute',\n",
       "  '0.01988636-cocaine',\n",
       "  '0.01988636-drug',\n",
       "  '0.011363572-instance',\n",
       "  '0.011363572-two',\n",
       "  '0.011363572-kill']}"
      ]
     },
     "execution_count": 101,
     "metadata": {},
     "output_type": "execute_result"
    }
   ],
   "source": [
    "my_dict = {'Topic_' + str(i): [str(score)+\"-\"+str(token) for token, score in transcripts_topics.show_topic(i)] for i in range(0, transcripts_topics.num_topics)}\n",
    "my_dict"
   ]
  },
  {
   "cell_type": "code",
   "execution_count": 106,
   "id": "ee1db17d",
   "metadata": {},
   "outputs": [],
   "source": [
    "topic_score = {'Topic_' + str(i): sum([score for token, score in transcripts_topics.show_topic(i)]) for i in range(0, transcripts_topics.num_topics)}\n",
    "topic_token = {'Topic_' + str(i): [token for token, score in transcripts_topics.show_topic(i)] for i in range(0, transcripts_topics.num_topics)}\n",
    "\n",
    "selected_words = topic_token[max(topic_score, key=topic_score.get)]"
   ]
  },
  {
   "cell_type": "code",
   "execution_count": 109,
   "id": "6b7d931e",
   "metadata": {},
   "outputs": [
    {
     "data": {
      "text/plain": [
       "['(CNN) -- Ralph Mata was an internal affairs lieutenant for the Miami-Dade Police Department, working in the division that investigates allegations of wrongdoing by cops.',\n",
       " 'Outside the office, authorities allege that the 45-year-old longtime officer worked with a drug trafficking organization to help plan a murder plot and get guns.']"
      ]
     },
     "execution_count": 109,
     "metadata": {},
     "output_type": "execute_result"
    }
   ],
   "source": [
    "selected_sen = []\n",
    "for each_sen in doc:\n",
    "    for word in selected_words:\n",
    "        if (word in each_sen) & (each_sen not in selected_sen):\n",
    "            selected_sen.append(each_sen)\n",
    "selected_sen[0:2] "
   ]
  },
  {
   "cell_type": "code",
   "execution_count": 95,
   "id": "6f1cedf1",
   "metadata": {},
   "outputs": [
    {
     "name": "stdout",
     "output_type": "stream",
     "text": [
      "(0, '0.033*\", \" + 0.027*\"organization\" + 0.020*\"trafficking\" + 0.020*\"drug\" + 0.020*\"Mata\" + 0.014*\"officer\" + 0.014*\"\"\" + 0.014*\"Court\" + 0.014*\"Tuesday\" + 0.014*\"including\"')\n",
      "(1, '0.070*\", \" + 0.036*\"Mata\" + 0.019*\"Miami\" + 0.019*\"complaint\" + 0.019*\"working\" + 0.019*\"according\" + 0.013*\"Police\" + 0.013*\"internal\" + 0.013*\"division\" + 0.013*\"lieutenant\"')\n",
      "(2, '0.028*\", \" + 0.028*\"Mata\" + 0.028*\"complaint\" + 0.020*\"alleges\" + 0.020*\"distribute\" + 0.020*\"cocaine\" + 0.020*\"drug\" + 0.011*\"instance\" + 0.011*\"two\" + 0.011*\"kill\"')\n"
     ]
    }
   ],
   "source": [
    "for topic in transcripts_topics.print_topics():\n",
    "    print(topic)"
   ]
  },
  {
   "cell_type": "code",
   "execution_count": null,
   "id": "c1cf9827",
   "metadata": {},
   "outputs": [],
   "source": [
    "\n",
    "(1, '0.070*\", \" + 0.036*\"Mata\" + 0.019*\"Miami\" + 0.019*\"complaint\" + 0.019*\"working\" + 0.019*\"according\" + 0.013*\"Police\" + 0.013*\"internal\" + 0.013*\"division\" + 0.013*\"lieutenant\"')\n",
    "(2, '0.028*\", \" + 0.028*\"Mata\" + 0.028*\"complaint\" + 0.020*\"alleges\" + 0.020*\"distribute\" + 0.020*\"cocaine\" + 0.020*\"drug\" + 0.011*\"instance\" + 0.011*\"two\" + 0.011*\"kill\"')"
   ]
  },
  {
   "cell_type": "code",
   "execution_count": null,
   "id": "d48698a8",
   "metadata": {},
   "outputs": [],
   "source": [
    "(0, \n",
    " '0.033*\", \" + 0.027*\"organization\" + 0.020*\"trafficking\" + 0.020*\"drug\" + 0.020*\"Mata\" + 0.014*\"officer\" + 0.014*\"\"\" + 0.014*\"Court\" + 0.014*\"Tuesday\" + 0.014*\"including\"')"
   ]
  },
  {
   "cell_type": "code",
   "execution_count": null,
   "id": "93cbdbb7",
   "metadata": {},
   "outputs": [],
   "source": []
  },
  {
   "cell_type": "code",
   "execution_count": null,
   "id": "5737b5a6",
   "metadata": {},
   "outputs": [],
   "source": []
  }
 ],
 "metadata": {
  "kernelspec": {
   "display_name": "Python 3",
   "language": "python",
   "name": "python3"
  },
  "language_info": {
   "codemirror_mode": {
    "name": "ipython",
    "version": 3
   },
   "file_extension": ".py",
   "mimetype": "text/x-python",
   "name": "python",
   "nbconvert_exporter": "python",
   "pygments_lexer": "ipython3",
   "version": "3.6.2"
  }
 },
 "nbformat": 4,
 "nbformat_minor": 5
}
