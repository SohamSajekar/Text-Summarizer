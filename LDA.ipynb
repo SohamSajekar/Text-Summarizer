{
 "cells": [
  {
   "cell_type": "code",
   "execution_count": 3,
   "id": "c0b80eac",
   "metadata": {},
   "outputs": [],
   "source": [
    "## Import libraries\n",
    "import re\n",
    "import nltk\n",
    "import spacy\n",
    "import string\n",
    "import pickle\n",
    "import numpy as np\n",
    "import pandas as pd\n",
    "en = spacy.load('en_core_web_sm')\n",
    "sw_spacy = en.Defaults.stop_words\n",
    "from tqdm.notebook import tqdm_notebook\n",
    "# Gensim\n",
    "from gensim import corpora\n",
    "from gensim.models.ldamodel import LdaModel\n",
    "import re\n",
    "from gensim.models import TfidfModel, LsiModel\n",
    "from gensim.models.ldamodel import LdaModel\n",
    "from gensim import matutils\n",
    "from sklearn.cluster import KMeans\n",
    "from collections import defaultdict\n",
    "from Cleaning import data_preprocess\n",
    "\n",
    "# Load models\n",
    "lda_model = pickle.load(open(r\"Data/lda_model_24.pkl\", \"rb\"))\n",
    "dictionary = pickle.load(open(r\"Data/dictionary.pkl\", \"rb\"))\n",
    "# corpus = pickle.load(open(r\"Data/corpus.pkl\", \"rb\"))\n",
    "topic_dict = pickle.load(open(r\"Data/topic_dict_24.pkl\", \"rb\"))"
   ]
  },
  {
   "cell_type": "code",
   "execution_count": 27,
   "id": "80b68fff",
   "metadata": {},
   "outputs": [],
   "source": [
    "# for article in data_train[-1:]['article']:\n",
    "#     articles = article"
   ]
  },
  {
   "cell_type": "code",
   "execution_count": 28,
   "id": "bb59fc85",
   "metadata": {},
   "outputs": [
    {
     "data": {
      "application/vnd.jupyter.widget-view+json": {
       "model_id": "320ca94e3ef749aab6a9ddbe2702f06a",
       "version_major": 2,
       "version_minor": 0
      },
      "text/plain": [
       "  0%|          | 0/1 [00:00<?, ?it/s]"
      ]
     },
     "metadata": {},
     "output_type": "display_data"
    }
   ],
   "source": [
    "# articles = \"collection rare color photo berlin 1937 take thomas neumann uncover norwegian archive life german capital tumultuous decade capture scene vibrant city iron grip adolf hitler reich height power year later city ruin russian ally occupy victory time image take hitler berlin vibrant hitler take power collapse democratic weimar republic 1933 severe economic problem cause great depression drive ordinary german far right partys arm chilling picture building emblazon swastika scene ordinary life german business child sun drench square smile friend train station cart selling banana food vendor sunny park regal rare color photo berlin 1937 unique perspective capital pre war period stadtschloss berlin city palace heavily damage bombing demolish east german authority war devastated stadtschloss gutte allied bomb tear east german authority war currently rebuild ominous 1937 hitler peak power ordinary german content opposition ruthlessly crush smile unknown trio train station likely friend colleague photographer rally soldier civilians rally decorate streets berlin photo believe take labour day 1 1937 bustle cart sell fruit busy berlin street norwegian engineer thomas neumann 1901 1978 take photo work germany film kind similar image preserve norwegian collection colour picture give historian valuable view interwar period 2007 photo gallery give national archives norway daughter thomas neumann train electrical engineer dresden graduate 1928 work berlin 1933 neumann member national unity party fascist organisation appoint propaganda leader oslo akershus leave party 1937 october 1944 arrest illegal activity send notorious grini concentration camp echo history street scene show augustiner keller beer cellar central berlin building festoon nazi regalia power hitler consolidate power mid 1930 thank widespread disillusionment weimar republic youth little boy outside unknown sunny square berlin order intimidate picture show troop lining boulevard festoon swastikas anticipation parade relaxation berliner enjoy snack sun soak park crowd picture take thomas neumann norwegian engineer work germany church state swastika maypole outside berlin cathedral dock man suit aboard steamer preussen presumably approach germany quiet moment driver lean state car enjoy cigarette photo candid moment berliner candid picture show brownshirt member hitler paramilitary force lounge state car building drape malign nazi symbol 30 january 1933 president hindenburg pressure franz von papen appoint hitler chancellor germany shortly fuhrer seize power  nazi government restore prosperity end mass unemployment heavy military spend free market economy extensive public work undertake include construction autobahns boost employment year later germany invade poland begin destructive war world see estimate 60 million people lose life result second world war global political landscape change forever ripple 1937 day celebration celebration 700 year berlin history grand messe berlin situate berlin westend complete 1937 heavily bomb allied aircraft masse lkarge crowd berlin presumably connection labour day force picture military personnel father beneath decoration officer appear inspect man overseer guard pristine white uniform look gather crowd civilian walker mystery german street year later fill russian british american troop serene unknown park berlin heat summer 1937 mean sprinkler require grass verdant history flag snap flap breeze throng german celebrate day colourful berliner gather look giant maypole outside berlin city cathedral\"\n",
    "# original_articles, cleaned_articles, cleaned_articles_merged = data_preprocess([articles])"
   ]
  },
  {
   "cell_type": "code",
   "execution_count": 11,
   "id": "07b53386",
   "metadata": {},
   "outputs": [],
   "source": [
    "# # Load stored data\n",
    "# data_train = pd.read_csv(r\"Data\\\\cleaned_training_data.csv\")\n",
    "# original_articles, cleaned_articles, cleaned_articles_merged = pickle.load(open(r\"Data\\\\cleaned_training_data.pkl\", \"rb\"))"
   ]
  },
  {
   "cell_type": "code",
   "execution_count": 8,
   "id": "0a9a8a0d",
   "metadata": {},
   "outputs": [],
   "source": [
    "# n = 5000\n",
    "# data_train = data_train[:n]\n",
    "# original_articles = original_articles[:n]\n",
    "# cleaned_articles = cleaned_articles[:n]\n",
    "# cleaned_articles_merged = cleaned_articles_merged[:n]"
   ]
  },
  {
   "cell_type": "code",
   "execution_count": 9,
   "id": "1081a1a5",
   "metadata": {},
   "outputs": [
    {
     "name": "stdout",
     "output_type": "stream",
     "text": [
      "data_train: 25000\n",
      "original_articles: 25000\n",
      "cleaned_articles: 25000\n",
      "cleaned_articles_merged: 25000\n"
     ]
    }
   ],
   "source": [
    "# print(\"data_train:\",len(data_train))\n",
    "# print(\"original_articles:\",len(original_articles))\n",
    "# print(\"cleaned_articles:\",len(cleaned_articles))\n",
    "# print(\"cleaned_articles_merged:\",len(cleaned_articles_merged))"
   ]
  },
  {
   "cell_type": "code",
   "execution_count": 10,
   "id": "243e6bdc",
   "metadata": {},
   "outputs": [],
   "source": [
    "# texts = [[word for word in article.split(\" \")] for article in cleaned_articles_merged[:-1]]"
   ]
  },
  {
   "cell_type": "code",
   "execution_count": 6,
   "id": "89e06da0",
   "metadata": {},
   "outputs": [],
   "source": [
    "# dictionary = corpora.Dictionary(texts)\n",
    "# # print(dictionary.id2token) ## to see the actual dictionary generated\n",
    "# corpus = [dictionary.doc2bow(text) for text in texts]"
   ]
  },
  {
   "cell_type": "code",
   "execution_count": 7,
   "id": "de09f362",
   "metadata": {},
   "outputs": [],
   "source": [
    "# # fit LDA model\n",
    "# lda_model = LdaModel(corpus=corpus, id2word=dictionary, num_topics=24)"
   ]
  },
  {
   "cell_type": "code",
   "execution_count": 5,
   "id": "666533a5",
   "metadata": {},
   "outputs": [],
   "source": [
    "# # Create Topic-Word dictionary\n",
    "# topic_dict = {}\n",
    "# for topic in range(0, lda_model.num_topics):\n",
    "#     temp = {}\n",
    "#     for token, score in lda_model.show_topic(topic, topn=1000):\n",
    "#         if token.isalpha():\n",
    "#             topic_dict[str(topic)+\"_\"+token] = score"
   ]
  },
  {
   "cell_type": "code",
   "execution_count": 9,
   "id": "ce3b4e2c",
   "metadata": {},
   "outputs": [],
   "source": [
    "# # Store model, dictionary, corpus and topic dict\n",
    "# pickle.dump(lda_model, open(r\"Data\\\\lda_model_24.pkl\", \"wb\"))\n",
    "# pickle.dump(dictionary, open(r\"Data\\\\dictionary.pkl\", \"wb\"))\n",
    "# pickle.dump(corpus, open(r\"Data\\\\corpus.pkl\", \"wb\"))\n",
    "# pickle.dump(topic_dict, open(r\"Data\\\\topic_dict_24.pkl\", \"wb\"))\n",
    "# pickle.dump(texts, open(r\"Data\\\\texts.pkl\", \"wb\"))"
   ]
  },
  {
   "cell_type": "code",
   "execution_count": 10,
   "id": "f9482ebc",
   "metadata": {},
   "outputs": [],
   "source": [
    "# # Load models\n",
    "# lda_model = pickle.load(open(r\"Data\\\\lda_model_24.pkl\", \"rb\"))\n",
    "# dictionary = pickle.load(open(r\"Data\\\\dictionary.pkl\", \"rb\"))\n",
    "# corpus = pickle.load(open(r\"Data\\\\corpus.pkl\", \"rb\"))\n",
    "# topic_dict = pickle.load(open(r\"Data\\\\topic_dict_24.pkl\", \"rb\"))\n",
    "# texts = pickle.load(open(r\"Data\\\\texts.pkl\", \"rb\"))"
   ]
  },
  {
   "cell_type": "markdown",
   "id": "fd85281a",
   "metadata": {},
   "source": [
    "#### Sentence ranking"
   ]
  },
  {
   "cell_type": "code",
   "execution_count": 2,
   "id": "e3ddb68d",
   "metadata": {},
   "outputs": [],
   "source": [
    "def create_new_weights(topic_dict, vector):\n",
    "    weights_dict = {}\n",
    "    for topic_word, score in tqdm_notebook(topic_dict.items()):\n",
    "        topic, word = topic_word.split(\"_\")\n",
    "        if word not in weights_dict:\n",
    "            weights_dict[word] = score*vector[0][int(topic)][1]\n",
    "        else:\n",
    "            weights_dict[word] = weights_dict[word]+(score*vector[0][int(topic)][1])\n",
    "    return weights_dict"
   ]
  },
  {
   "cell_type": "code",
   "execution_count": 3,
   "id": "83f179cf",
   "metadata": {},
   "outputs": [],
   "source": [
    "def score_sentences(original_articles, cleaned_articles, weights_dict):\n",
    "    sen_score = {}\n",
    "    for idx, sen in enumerate(cleaned_articles):\n",
    "        if len(sen) > 3:\n",
    "            score = 0\n",
    "            for word in sen.split(\" \"):\n",
    "                if word in weights_dict:\n",
    "                    score += weights_dict[word]\n",
    "            sen_score[original_articles[idx]] = score\n",
    "    sen_score = sorted(sen_score, key=sen_score.get, reverse=True)\n",
    "    return sen_score"
   ]
  },
  {
   "cell_type": "code",
   "execution_count": 4,
   "id": "bac7dab5",
   "metadata": {},
   "outputs": [],
   "source": [
    "def lda_transform(article, topn=5):\n",
    "    # Cleaning\n",
    "    original_articles, cleaned_articles, cleaned_articles_merged = data_preprocess([article])\n",
    "    cleaned_articles = cleaned_articles[-1]\n",
    "    original_articles = original_articles[-1]\n",
    "    \n",
    "    # Create a new corpus, made of previously unseen documents.\n",
    "    texts_new = [[word for word in article.split(\" \")] for article in cleaned_articles_merged]\n",
    "    other_corpus = [dictionary.doc2bow(text) for text in texts_new]\n",
    "    vector = lda_model.get_document_topics(other_corpus, minimum_probability=0.0)\n",
    "    weights_dict = create_new_weights(topic_dict, vector)\n",
    "    sen_score = score_sentences(original_articles, cleaned_articles, weights_dict)\n",
    "    ids = sorted([original_articles.index(sen) for sen in sen_score[:topn] if sen in original_articles])\n",
    "    extracted_sens = [original_articles[i] for i in ids]\n",
    "    return extracted_sens"
   ]
  },
  {
   "cell_type": "code",
   "execution_count": 12,
   "id": "361a2735",
   "metadata": {},
   "outputs": [
    {
     "data": {
      "text/plain": [
       "\"This collection of rare color photos of Berlin in 1937, taken by Thomas Neumann and uncovered from Norwegian archives, show life in the German capital during a tumultuous decade. They capture scenes in the vibrant city, which was under the iron grip of Adolf Hitler and his Third Reich at the very height of his power. Yet just eight years later the city was in ruins as Russians and Allies occupied it in victory. But at the time these images were taken, Hitler's Berlin was vibrant. Hitler had taken power after the collapse of the democratic Weimar Republic in 1933 as severe economic problems caused by the Great Depression drove ordinary Germans into the far-right party's arms. As well as chilling pictures of . buildings emblazoned with swastikas, there are scenes of ordinary life . as Germans go about their business. They show a child in a sun-drenched square, smiling friends at a train . station, a cart selling bananas and a food vendor in a sunny park. Regal: These rare color photos of Berlin in 1937 give a unique perspective of the capital's pre-war period. The Stadtschloss, or Berlin City Palace, was heavily damaged during bombing and demolished by East German authorities after the war . Devastated: The Stadtschloss after it was gutted by Allied bombs. It was torn down by East German authorities after the war but is currently being rebuilt . Ominous: In 1937 Hitler was at the very peak of his power. Ordinary Germans were content and opposition was being ruthlessly crushed . Smiling: An unknown trio at a train station. It is likely they were friends or colleagues of the photographer . Rally: Soldiers and civilians at a rally on the decorated streets in Berlin. This photo is believed to have been taken on Labour Day (May 1) in 1937 . Bustle: A cart sells fruit on a busy Berlin street . Norwegian engineer Thomas Neumann (1901-1978) took the photos while working in Germany. The film he used was the first of its kind, and there are few similar images preserved in Norwegian collections. His coloured pictures gives historians a valuable view of the interwar period. In 2007 his photo gallery given to the National Archives of Norway by his daughter. Thomas Neumann trained as an electrical engineer in Dresden. After graduating in 1928 he worked in Berlin until 1933. Neumann was a member of the National Unity party, a fascist organisation and was appointed its propaganda leader in Oslo and Akershus. He left the party in 1937 and in October 1944 he was arrested for illegal activities and sent to the notorious Grini concentration camp. Echoes of history: This street scene shows the Augustiner Keller, a beer cellar in central Berlin. Few buildings were not festooned with Nazi regalia . Power: Hitler had consolidated his power by the mid-1930s, thanks to widespread disillusionment with the Weimar Republic . Youth: A little boy outside an unknown sunny square in Berlin . Order: This intimidating picture shows troops lining a boulevard festooned with swastikas in anticipation of a parade . Relaxation: Berliners enjoy snacks in a sun-soaked park . Crowds: The pictures were taken by Thomas Neumann, a Norwegian engineer who worked in Germany . Church and state: Swastikas and a maypole outside Berlin Cathedral . Docking: Two men in suits aboard the steamer Preussen, presumably approaching Germany . Quiet moment: A driver leans against a state car and enjoys a cigarette. The photos show candid moments among Berliners . One candid picture shows a Brownshirt . (a member of Hitler's paramilitary force) lounging against a state car . in front of a building draped with the maligned Nazi symbol. On 30 January 1933, President . Hindenburg, under pressure from Franz von Papen, appointed Hitler as . Chancellor of Germany. Shortly after the Fuhrer seized power. The . Nazi government restored prosperity and ended mass unemployment using . heavy military spending and a free market economy. Extensive public . works were also undertaken, including the construction of the Autobahns, . to boost employment. Just . two years later Germany would invade Poland and begin the most . destructive war the world has ever seen. An estimated 60 million people . lost their lives as a result of the Second World War and the global . political landscape changed forever. Ripple: The 1937 May Day celebration was also a celebration of 700 years of Berlin's history . Grand: The Messe Berlin situated in Berlin-Westend. It was completed in 1937 yet heavily bombed by Allied aircraft . Masses: A lkarge crowd in Berlin, presumably in connection with Labour Day . Force: In this picture we see military personnel father beneath decorations. An officer appears to be inspecting the men . Overseer: A guard in a pristine white uniform looks on at a gathering crowd . Civilians: Walkers on a mystery German street. Eight years later it would have been filled with Russian, British and American troops . Serene: An unknown park in Berlin. The heat of the summer of 1937 meant sprinklers were required to keep the grass verdant . History: Flags snap and flap in the breeze among a throng of Germans celebrating May day . Colourful: Berliners gather to look at a giant maypole outside the Berlin City Cathedral .\""
      ]
     },
     "execution_count": 12,
     "metadata": {},
     "output_type": "execute_result"
    }
   ],
   "source": [
    "# for article in data_train[-1:]['article']:\n",
    "#     articles = article\n",
    "# articles"
   ]
  },
  {
   "cell_type": "code",
   "execution_count": 13,
   "id": "1e49eb64",
   "metadata": {},
   "outputs": [
    {
     "data": {
      "application/vnd.jupyter.widget-view+json": {
       "model_id": "024a29296525457fabda43c91fcba88e",
       "version_major": 2,
       "version_minor": 0
      },
      "text/plain": [
       "  0%|          | 0/23057 [00:00<?, ?it/s]"
      ]
     },
     "metadata": {},
     "output_type": "display_data"
    },
    {
     "data": {
      "text/plain": [
       "['Just two years later Germany would invade Poland and begin the most destructive war the world has ever seen',\n",
       " 'An estimated 60 million people lost their lives as a result of the Second World War and the global political landscape changed forever',\n",
       " \"Hitler had taken power after the collapse of the democratic Weimar Republic in 1933 as severe economic problems caused by the Great Depression drove ordinary Germans into the far-right party's arms\",\n",
       " \"But at the time these images were taken, Hitler's Berlin was vibrant\",\n",
       " 'This collection of rare color photos of Berlin in 1937, taken by Thomas Neumann and uncovered from Norwegian archives, show life in the German capital during a tumultuous decade']"
      ]
     },
     "execution_count": 13,
     "metadata": {},
     "output_type": "execute_result"
    }
   ],
   "source": [
    "# summary = lda_transform(articles, topn=5)\n",
    "# summary"
   ]
  },
  {
   "cell_type": "code",
   "execution_count": null,
   "id": "dfb63c6a",
   "metadata": {},
   "outputs": [],
   "source": []
  },
  {
   "cell_type": "code",
   "execution_count": null,
   "id": "c3c7c7d0",
   "metadata": {},
   "outputs": [],
   "source": []
  }
 ],
 "metadata": {
  "kernelspec": {
   "display_name": "Python 3",
   "language": "python",
   "name": "python3"
  },
  "language_info": {
   "codemirror_mode": {
    "name": "ipython",
    "version": 3
   },
   "file_extension": ".py",
   "mimetype": "text/x-python",
   "name": "python",
   "nbconvert_exporter": "python",
   "pygments_lexer": "ipython3",
   "version": "3.6.2"
  }
 },
 "nbformat": 4,
 "nbformat_minor": 5
}
