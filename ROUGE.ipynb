{
 "cells": [
  {
   "cell_type": "code",
   "execution_count": null,
   "id": "ced25648",
   "metadata": {},
   "outputs": [],
   "source": [
    "pip install rouge"
   ]
  },
  {
   "cell_type": "code",
   "execution_count": 10,
   "id": "8446f344",
   "metadata": {},
   "outputs": [],
   "source": [
    "import rouge"
   ]
  },
  {
   "cell_type": "code",
   "execution_count": 11,
   "id": "9ec446d2",
   "metadata": {},
   "outputs": [],
   "source": [
    "extracted_summary = \"the #### transcript is a written version of each day 's cnn student news program use this transcript to he    lp students with reading comprehension and vocabulary use the weekly newsquiz to test your knowledge of storie s you     saw on cnn student news\"\n",
    "highlight = \"this page includes the show transcript use the transcript to help students with reading comprehension and     vocabulary at the bottom of the page , comment for a chance to be mentioned on cnn student news . you must be a teac    her or a student age # # or older to request a mention on the cnn student news roll call . the weekly newsquiz tests     students ' knowledge of even ts in the news\""
   ]
  },
  {
   "cell_type": "code",
   "execution_count": 12,
   "id": "a6e47420",
   "metadata": {},
   "outputs": [],
   "source": [
    "from rouge import Rouge \n",
    "rouge = Rouge()\n",
    "scores = rouge.get_scores(extracted_summary, highlight, avg=True)"
   ]
  },
  {
   "cell_type": "code",
   "execution_count": 13,
   "id": "bc69589a",
   "metadata": {},
   "outputs": [
    {
     "data": {
      "text/plain": [
       "{'rouge-1': {'r': 0.42857142857142855,\n",
       "  'p': 0.5833333333333334,\n",
       "  'f': 0.49411764217577864},\n",
       " 'rouge-2': {'r': 0.18571428571428572,\n",
       "  'p': 0.3170731707317073,\n",
       "  'f': 0.23423422957552154},\n",
       " 'rouge-l': {'r': 0.3877551020408163,\n",
       "  'p': 0.5277777777777778,\n",
       "  'f': 0.44705881864636676}}"
      ]
     },
     "execution_count": 13,
     "metadata": {},
     "output_type": "execute_result"
    }
   ],
   "source": [
    "scores"
   ]
  },
  {
   "cell_type": "code",
   "execution_count": 37,
   "id": "43ba4846",
   "metadata": {},
   "outputs": [
    {
     "ename": "FileNotFoundError",
     "evalue": "[Errno 2] No such file or directory: 'Data\\\\\\\\lda_model_24.pkl'",
     "output_type": "error",
     "traceback": [
      "\u001b[0;31m---------------------------------------------------------------------------\u001b[0m",
      "\u001b[0;31mFileNotFoundError\u001b[0m                         Traceback (most recent call last)",
      "\u001b[0;32m<ipython-input-37-ccaa8928d84f>\u001b[0m in \u001b[0;36m<module>\u001b[0;34m\u001b[0m\n\u001b[1;32m      2\u001b[0m \u001b[0;32mimport\u001b[0m \u001b[0mnumpy\u001b[0m \u001b[0;32mas\u001b[0m \u001b[0mnp\u001b[0m\u001b[0;34m\u001b[0m\u001b[0;34m\u001b[0m\u001b[0m\n\u001b[1;32m      3\u001b[0m \u001b[0;32mfrom\u001b[0m \u001b[0mCleaning\u001b[0m \u001b[0;32mimport\u001b[0m \u001b[0mdata_preprocess\u001b[0m\u001b[0;34m\u001b[0m\u001b[0;34m\u001b[0m\u001b[0m\n\u001b[0;32m----> 4\u001b[0;31m \u001b[0;32mfrom\u001b[0m \u001b[0mLDA\u001b[0m \u001b[0;32mimport\u001b[0m \u001b[0mlda_transform\u001b[0m\u001b[0;34m\u001b[0m\u001b[0;34m\u001b[0m\u001b[0m\n\u001b[0m",
      "\u001b[0;32m~/Downloads/TextSummarizer/LDA.py\u001b[0m in \u001b[0;36m<module>\u001b[0;34m\u001b[0m\n\u001b[1;32m     28\u001b[0m \u001b[0;34m\u001b[0m\u001b[0m\n\u001b[1;32m     29\u001b[0m \u001b[0;31m# Load models\u001b[0m\u001b[0;34m\u001b[0m\u001b[0;34m\u001b[0m\u001b[0;34m\u001b[0m\u001b[0m\n\u001b[0;32m---> 30\u001b[0;31m \u001b[0mlda_model\u001b[0m \u001b[0;34m=\u001b[0m \u001b[0mpickle\u001b[0m\u001b[0;34m.\u001b[0m\u001b[0mload\u001b[0m\u001b[0;34m(\u001b[0m\u001b[0mopen\u001b[0m\u001b[0;34m(\u001b[0m\u001b[0;34mr\"Data\\\\lda_model_24.pkl\"\u001b[0m\u001b[0;34m,\u001b[0m \u001b[0;34m\"rb\"\u001b[0m\u001b[0;34m)\u001b[0m\u001b[0;34m)\u001b[0m\u001b[0;34m\u001b[0m\u001b[0;34m\u001b[0m\u001b[0m\n\u001b[0m\u001b[1;32m     31\u001b[0m \u001b[0mdictionary\u001b[0m \u001b[0;34m=\u001b[0m \u001b[0mpickle\u001b[0m\u001b[0;34m.\u001b[0m\u001b[0mload\u001b[0m\u001b[0;34m(\u001b[0m\u001b[0mopen\u001b[0m\u001b[0;34m(\u001b[0m\u001b[0;34mr\"Data\\\\dictionary.pkl\"\u001b[0m\u001b[0;34m,\u001b[0m \u001b[0;34m\"rb\"\u001b[0m\u001b[0;34m)\u001b[0m\u001b[0;34m)\u001b[0m\u001b[0;34m\u001b[0m\u001b[0;34m\u001b[0m\u001b[0m\n\u001b[1;32m     32\u001b[0m \u001b[0;31m# corpus = pickle.load(open(r\"Data\\\\corpus.pkl\", \"rb\"))\u001b[0m\u001b[0;34m\u001b[0m\u001b[0;34m\u001b[0m\u001b[0;34m\u001b[0m\u001b[0m\n",
      "\u001b[0;31mFileNotFoundError\u001b[0m: [Errno 2] No such file or directory: 'Data\\\\\\\\lda_model_24.pkl'"
     ]
    }
   ],
   "source": [
    "import pandas as pd\n",
    "import numpy as np\n",
    "from Cleaning import data_preprocess\n",
    "from LDA import lda_transform"
   ]
  },
  {
   "cell_type": "code",
   "execution_count": 17,
   "id": "04fb974f",
   "metadata": {},
   "outputs": [],
   "source": [
    "test_data = pd.read_csv(\"Data/cnn_dailymail/test.csv\")"
   ]
  },
  {
   "cell_type": "code",
   "execution_count": 26,
   "id": "806b9bc3",
   "metadata": {},
   "outputs": [],
   "source": [
    "test_data = test_data.sample(n=5).reset_index(drop=True)"
   ]
  },
  {
   "cell_type": "code",
   "execution_count": 31,
   "id": "5ffe25a6",
   "metadata": {},
   "outputs": [],
   "source": [
    "articles = test_data['article'].to_list()"
   ]
  },
  {
   "cell_type": "code",
   "execution_count": 32,
   "id": "7b70972d",
   "metadata": {},
   "outputs": [
    {
     "data": {
      "text/plain": [
       "[\"Volunteers who have restored one of the Dunkirk 'Little Ships' are now hoping they will be able to take the unique vessel back to the beaches where it helped to rescue 600 British soldiers. Fire boat Massey Shaw was requisitioned from the London Fire Brigade in 1940 and transported to Dunkirk to help with the evacuation of Allied troops in the face of the Nazi advance. After carrying 600 soldiers back to Britain, the boat returned to London where it helped to save St Paul's Cathedral and other buildings damaged in the Blitz. Scroll down for video . Renovation: Massey Shaw has been restored to its former glory seven decades after helping to save 600 troops from the Dunkirk beaches . Voyage: Volunteers are now hoping to transport the Massey Shaw back to Dunkirk to celebrate its amazing achievement . Rusting: This shows the poor condition that the Massey Shaw was in before it was restored by a group of volunteers and a trust . Home: The Massey Shaw pictured moored in a dock near Canary Wharf, home to a number of giant global banks . Massey Shaw is still capable of pumping out 3,000 gallons of water every minute - as much as four fire engines - despite being 80 years old. The boat went out of service in 1971, and four decades was used as a walkway in a London dock, allowing people to get to other bessels. But London fireman David Rogers and the Massey Shaw Education Trust spent six years restoring it, thanks to a grant from the National Lottery. They are now seeking additional funding to allow them to transport Massey Shaw to Dunkirk next month, which will mark the 75th anniversary of the Little Ships' adventure. Comeback: It took six years to undo the damage wrought on the Massey Shaw and restore it to how it was in the 1930s . Interior: The engine room of the old fire boat, which is still working well even though it was first built 80 years ago . On board: The controls and fire bell of the Massey Shaw have also been repaired thanks to a National Lottery grant . Deck: The boat is mounted with a hose which can pump out 3,000 gallons of water every minute, the same as four fire engines . Saying goodbye: The Massey Shaw pictured on its final voyage before being decommissioned as a fire boat in 1971 . Mr Rogers said: 'The boat was built in the 1930s and during its career fought fires along the Thames and London before being called to Dunkirk in 1940. It was the only fire boat to go. 'It went with the little ships and was initially going to be used as a fire boat but the strafing and gun fire was too much. 'Because it has a shallow hull it was able to get into La Penne beach outside Dunkirk where she rescued 500 troops in three trips across the English Channel and another 100 back to the UK after that. 'It didn't stop there because as the Massey Shaw headed home a French merchant ship hit a mine about two miles ahead of her. The Massey went to the aid of the aid and the crew and rescued them as well from the water. Controls: Volunteers who restored the boat praised the quality of its 80-year-old engineering which still propels the boat . Journey: A charity needs to raise £10,000 so they can afford the fuel needed to take the Massey Shaw back to Dunkirk this year . Repairs: The engine being removed from the interior of the boat while restoration works were going on . Commemoration: The vessel boasts a plaque marking its historic status as one of the Dunkirk 'Little Ships' 'Of course she was involved in the London Blitz and the Massey Shaw's pumps helped saved St Paul's Cathedral.' The veteran firefighter, who spent 30 years with the London Fire Brigade, paid tribute to Massey Shaw's unique survival. 'There is nothing like it left from the 1930s, she is a beautiful ship and the engineering is something to behold,' he said. The trust is seeking at least £10,000 to pay for the fuel which would be needed to transport the boat from Britain to Dunkirk. After Nazi Germany invaded Poland in September 1939, the British Expeditionary Force (BEF) was sent to help defend France. But in May 1940, three German Panzer corps attacked France through the Ardennes and quickly advanced to the English Channel. By May 21, the German forces had trapped the BEF and the remains of the French and Belgian armies in an area along the northern coast of France. The British force retreated to Dunkirk as it was the best site for an evacuation and the Battle of Dunkirk raged between May 26 and June 4 1940. However, in one of the most bizarre military manoeuvres of the war, the Nazis halted their final advance - this gave the Allies three days to plan their escape and arrange the evacuation of 330,000 troops. Escape: Soldiers are pictured queuing up waiting to be rescued from Dunkirk during Operation Dynamo . Naval bosses ordered all owners of boats between 30ft and 100ft to offer them up to the Admiralty, as the Navy did not have enough vessels to transport all the troops itself. Many of these Little Ships - which included ferries, paddle steamers and yachts - were taken without their owners' permission because there was no time to contact them. A total of 700 vessels were joined by 200 warships and proceeded to cross the Channel to rescue troops who would otherwise have faced potential disaster at the hands of the Nazis. The mission, codenamed Operation Dynamo, was one of the most extraordinary moments of the war, and allowed the British authorities to rebuild their military strength. Up to 500 Little Ships are believed still to be in existence, and they regularly travel back to Dunkirk in flotilla to recreate the extraordinary operation.\",\n",
       " \"Burying the dead along with a human sacrifice was common in ancient Korea. But an unusual tomb dating to between the 5th and 6th century seems to hold the remains of two lovers, one of whom may have been killed so the pair could lie together for eternity. The skeletons were found on top of one another in the tomb from Korea’s Silla Dynasty, leading some experts suggesting that the set-up could even have been designed to show two people having sex. An unusual tomb dating to between the 5th and 6th century seems to hold the remains of two lovers, one of whom may have been killed so the pair could lie together for eternity. Here, the bones of the two people can be seen on top of one another, leading some experts to suggest the set-up was designed to imitate sex . Archaeologists are almost certain that the tomb was intended for a noblewoman and believe that the man she is lying with may have been killed so he could be buried with her. The tomb is made of soil and stone and was discovered last December in Hwangnam-dong, a neighbourhood of Gyeongju City in South Korea,Korea Joongang Daily reported. It was the capital of ancient Silla for almost 1,000 years and is known for its intricate gold ornaments and Buddhist temples. The remains of the two people, including leg bones and teeth, were found in the main chamber of the tomb and are thought to have died between the ages of 20 and 30. Experts believe the tomb was intended for the woman, because her body is carefully positioned to face the sky and she was buried with gold earrings, indicating her high status. A belt, beaded necklace and jade green jewels were also found with her skeleton. It is not known whether she died naturally or was killed. Archaeologists are almost certain that the tomb was intended for a noblewoman and believe that the man she is lying with may have been killed so he could be buried with her. The position of the skeletons is shown above . It's thought that the tomb was intended for a noblewoman, based on the positioning of her skeleton and objects found with her body, such as gold earrings (pictured). In contrast, no precious possessions were found with the male body, leading experts to speculate that he was a human sacrifice and possibly, her lover . Both the woman and the man in the tomb are estimated to be between the ages of 20 and 30 when they died, or were killed. The woman is thought to have been a noblewoman, based on the fact that her body was positioned on its back in the tomb, and she was buried with precious items such as gold earrings and jade. A sword and horse harness was discovered in another room of the tomb, indicating she was used to riding a horse and carrying a weapon, which was not unusual during the Silla Dynasty, which sometimes had women rulers. The man would have been the woman's lover, servant or body guard and it is likely that he was killed to be buried with her. Human sacrifices were buried in tombs at the time so they could act as guards in the afterlife. But when males were killed, they were usually placed at the feet of the person whom the tomb was intended for, or outside the main chamber, indicating that the man was of special interest to the noblewoman. The fact that the bones lie on top of each other have  led experts to think that the couple were lovers. Some even say that their bodies were positioned to make it look like they were having sex. In contrast, the man is believed to be a human sacrifice and his bones are positioned on top of hers. While male sacrifices were rare but not unheard of at the time, the set up in tomb is thought to be unique. Silla history expert, Professor Lee Han-sang of Daejeon University, told\\xa0The Chosun Ilbo: ‘The man could have been a servant, bodyguard or lover’. ‘The discovery is important because it shows an unknown type of burial of the living with the dead in the Silla period.’ Kim Kwon-il, a researcher at The Foundation of Silla Cultural Heritage Research, said: ‘Male sacrifices were often buried in the room where the artefacts were, as guards, so to speak, for the dead.’ In the Silla tomb, the position of the teeth indicate that the man and woman’s heads laid next to each other. The only bodies previously found in main chambers, show that human sacrifices were often positioned at the feet of the person whom the tomb was intended for. Some historians believe that the couple were deliberately arranged to make it look as if they were having sex, Yonhap News Agency reported. The man’s thigh bones were found on top of the woman’s, indicating that they could have been locked in an embrace when they were buried. However, researchers at the foundation say that t's more likely that the man may have been buried on a wooden frame above her body, which decayed over time, so his bones became mingled with hers. Explicit clay dolls with large penises or breasts have previously been found and belong to the Silla, supporting some claims that the burial could have been posed to look sexual. In another room of the tomb, artefacts including a sword, harness and pottery was recovered, indicating that the woman probably rode horses and carried a weapon. No artefacts linked to the man were found, reinforcing the belief he was a sacrifice. Tombs from the early part of the Silla Dynasty are rare and just 24 are known to have been discovered. The tomb is made of soil and stone and was discovered in Hwangnam-dong (shown on the map with a red marker), a neighbourhood of Gyeongju City in South Korea, last December .\",\n",
       " \"Microsoft hopes to lure more people to use its new Windows 10 software by making it easy to use many of the same apps they're already using on Apple or Android phones. The move marks a radical shift in strategy for the world's biggest software company, which still dominates the personal computer market but has failed to get any real traction on tablets and phones, partly because of a lack of apps. The company said at its annual Build conference on Wednesday that it will release new programming tools for software developers to rapidly adapt their Apple and Android apps to run on devices that use the new Windows 10 operating system coming late this year. Scroll down for video . Microsoft hopes to lure more people to use its new Windows 10 software by making it easy to use many of the same apps they're already using on Apple or Android phones. Pictured: \\xa0Microsoft CEO Satya Nadella delivers his keynote address at Microsoft Build in San Francisco, . New operating system will run on the 'broadest types of devices ever'. Various app stores merged into one platform, called the One Store. Return of the Start Menu, which had been removed from Windows 8. Users can create multiple desktops to keep things organised. Microsoft also announced a new name for the web browser that it plans to offer with Windows 10. The company promises its new 'Edge' browser is faster and more useful than the Internet Explorer that Microsoft has offered for the last 20 years. The tech giant is making its case for Windows 10 before an army of software developers who may be crucial allies in its campaign to build enthusiasm among consumers for the next version of Microsoft's flagship operating system, coming later this year. 'Our goal is to make Windows 10 the most attractive development platform ever,' Microsoft executive Terry Myerson told an audience of several thousand programmers and app developers. While Microsoft has already previewed some aspects of the new Windows, a parade of top executives is using the Build conference to demonstrate more software features and app-building tools, with an emphasis on mobile devices as well as PCs. Ultimately, they're hoping to win over people who have turned to smartphones and tablets that run on rival operating systems from Google and Apple. During the three-day conference, Microsoft is also expected to show off new Windows smartphones or other devices and reveal more details about such tech initiatives as the company's new Spartan web browser; its Siri-like digital assistant known as Cortana; and the HoloLens, a futuristic 'augmented reality' headset that projects three-dimensional images in a wearer's field of vision. But perhaps most importantly, this year's conference is an opportunity for Microsoft to persuade an audience of more than 5,000 techies and independent programmers that it's worth their time to create new apps and programs for Windows 10. Experts say Microsoft needs a rich variety of apps if it wants to appeal to people who are increasingly using mobile gadgets instead of personal computers. A woman wearing a HoloLens demonstrates how the technology can be used to test and develop robotics at the Microsoft Build conference in San Francisco. Internet Explorer, which was first called Windows Internet Explorer, was first released as part of the add-on package Plus! for Windows 95 in 1995. Internet Explorer was one of the most widely used web browsers, attaining a peak of about 95 per cent during 2002 and 2003. However, it struggled in the face of competition, and in May 2012 it was announced that Google's Chrome\\xa0overtook Internet Explorer as the most used browser worldwide. The brand has struggled to shake off the bad reputation of Internet Explorer 6, which was notoriously insecure. 'Getting developer buy-in is absolutely the crucial thing,' said J.P. Gownder, a tech industry analyst at Forrester Research. He said Microsoft has struggled with a 'chicken-and-egg' problem, in which developers have been reluctant to build mobile apps for Windows because relatively few people use Windows phones and tablets. Microsoft hopes it has solved that problem by designing Windows 10 so it's easier for developers to build 'universal' apps that work on a variety of Windows devices, from phones to PCs and other gadgets, Gownder said. Currently, there are more than 1.4 million apps for Android phones and about the same for Apple devices, while there are only a few hundred thousand apps that work on Windows phones and tablets. The company also has a big carrot to wave in front of those developers: Microsoft has already said it will release Windows 10 as a free upgrade to people who now have PCs or other gadgets running the previous two versions of Windows, provided they upgrade in the coming year. The offer could create a huge new audience of Windows 10 users in a relatively short time, Gownder said. Myerson predicted there will be a billion devices using Windows 10 - from PCs to phones, tablets, gaming consoles and even holographic computers - within the next two to three years. Microsoft has not said exactly when Windows 10 is coming, and some analysts are hoping the company will announce a release date at the conference, along with details about how it will distribute future upgrades. CEO Satya Nadella and other executives have hinted they'd like to move away from the old notion of selling each new version of Windows as a separate product. Microsoft's had early success in selling its Office productivity software on a subscription basis, in which customers pay an annual fee to use programs like Word, PowerPoint and Excel. A man demonstrates a device using Windows holographic technology during the Microsoft Build conference . Nadella is presiding over a major overhaul of a company that once dominated the tech industry, in the days when PCs were king. He has redesigned some of Microsoft's most popular programs for mobile devices and invested in new 'cloud-computing' services, in which businesses pay to use software that's housed in Microsoft's data centers. Microsoft still relies heavily on selling traditional software for PCs and corporate computer systems. But its latest quarterly earnings report, issued last week, offered some signs that the decline in that business is slowing, while Microsoft's cloud-computing business is growing rapidly. The news drove Microsoft's share price up 10 percent in one day. The stock has continued to rose, trading as high as $49.13 on Wednesday - within a dollar of its 52-week high.\",\n",
       " \"The grandmother of a Virginia teen missing since March 2 came out swinging Sunday at authorities who she says have been 'doing nothing' to bring the girl home. Katherine Hadsell says she's eager for police in Norfolk to give 'more insight into what they're actually doing' to find 18-year-old college student Anjelica Hadsell. The Longwood University student was home for spring break when she vanished. Police just this past week focused their search on a pond near Carrsville after getting a new tip that her cell phone may be below its surface. Scroll down for video . Concerned? Katherine Hadsell says police aren't doing enough to find 18-year-old AJ, who's been missing for a month. Further, she says her son - AJ's stepfather Wesley Hadsell - was arrested unjustly as he took it upon himself to investigate the crime by breaking into a Norfolk area home . Police are searching a pond near Carrsville, Virginia, in an attempt to find the cell phone of Anjelica 'AJ' Hadsell, a Longwood University freshman who was last seen on March 2. Meanwhile, the family says they've been left in the dark about how, exactly, police were led to the pond in the first place. And Hadsell's stepfather has found himself the focus of area police after he was caught allegedly breaking into a home two weeks after Anjelica's disappearance, an act his mother Katherine says was out of fatherly concern. Katherine Hadsell told ABC News her son Wesley had heard his stepdaughter could be inside the home. 'As any father would, if you hear that your daughter may or may not be in a house or being held or some of her belongings or at a location, any father is going to try and find out,' Katherine Hadsell said. Hadsell had not been named a suspect as he awaited a hearing on six charges including four charges of obstructing justice, one charge of possessing ammunition after a felony and one charge of breaking and entering. Local resident Steve Hines over the weekend said that divers were searching the outer edges of the pond for the Longwood University freshman's phone, which sent strange text messages to her mother shortly after her disappearance. AJ Hadsell (left) was last seen driving near her parents' home in Norfolk and her stepfather Wesley Hadsell (right) was taken into custody late last month after being interrogated by police for more than 15 hours . The teenager was last seen when she was home for spring break driving near her home in Norfolk, roughly 40 miles from the pond searched Friday, according to\\xa013 News Now. Hines said that police showed him a picture and asked him if he had seen a white van for Quality Plumbing. He said that he had seen the vehicle, which belongs to a company where Hadsell's stepfather Wesley works, driving along the rural road. He had been working in nearby Franklin, Virginia, around the time of the disappearance. The stepfather of the teenager, 36, was taken into police custody late last month amid claims that he knows who has taken his daughter. He was arrested on March 21 after being interrogated by police for more than 15 hours. He said he broke into the home of the person that he believes took his daughter against her will. Wesley Hadsell, left, has admitted breaking into the home of the person that he believes took his daughter AJ, right, against her will. The stepfather has a criminal record including dropped rape and kidnapping charges . Residents of Carrsville reported a white plumbing van for the company Wesley Hadsell works for driving suspiciously around the pond . 'I couldn't sit a minute away from where my daughter may have been,' he told WAVY.com. Wesley has admitted to spending roughly 18 minutes inside the home, where he says he searched for evidence by going through the trash and searching under the carpet. He said he even punched the family dog out of anger. While searching the property AJ's stepfather claims that he discovered her jacket. 'I found my daughter's jacket in his couch rolled up behind the cushion,' he said. 'I was just trying to make the evidence come to light. It's not like I had the jacket, I didn't plant the jacket, I didn't know anything about that. It was the fact of the overwhelming information that led me there.' Officially police have said that they are not ruling out foul play and they have no suspects. During a search of Wesley's hotel room police found 72 rounds of nine-millimeter ammunition. He has aroused local suspicions on social media in part because he has a lengthy felony criminal record. In 2005 his ex-wife went missing for several days and he was reportedly arrested after allegedly kidnapping her and driving her across multiple states. Charges of rape, kidnapping, assault and domestic violence were later dropped. Police have not ruled out foul play in the disappearance of the Longwood University freshman, which has lasted for more than a month . Police spent over 12 hours combing a large, remote wooded area in coastal Chesapeake following a tip that some of AJ's clothing had being found on the side of the road late last month . He also served 54 months in prison for a bank robbery in Fredericksburg, Virginia, according to WTKR. Now he says that he is a changed man. Wesley and his wife were estranged when he was arrested, but it is not clear what their relationship was at the time of the disappearance. Jennifer Busby, AJ's mother, said she received text messages from her daughter's phone shortly after he disappearance but was not sure that the person sending them was actually the missing girl. Wesley Hadsell was denied bond and the judge said the he was trying to impede the investigation into his stepdaughter's disappearance, according to the Virginian-Pilot. He admitted to increasing cocaine use, but said that he just wants to see his daughter home. A neighbor reported seeing AJ driving 'with purpose' and then saw a white four-door vehicle following about a minute behind her. They say Hadsell was followed by a white four-door compact car less than one minute later, and that another neighbor spotted a similar white car in the family's driveway around the same time. AJ's family and friends discovered items of her clothing two weeks ago near the side of the road in a remote wooded area in coastal Chesapeake. Four items were found that belonged to her. AJ is described as standing at 5 feet 6 inches tall and weighing 120 pounds.\",\n",
       " \"A rescue Sato named Bonnie is so afraid that she will be abandoned again that she can't bear to eat alone. In an adorable video posted to YouTube by user Jeannine S. with nearly one million views, puppy Bonnie can be seen lifting her dish to bring it over to her canine friend Clyde who is also scarfing down a meal. Bonnie lifts the dish into her mouth and scuttles her paws backwards to dine along with Clyde. Given a dish: Bonnie's new owner feeds her a dish of food away from his other dog Clyde . Clyde continues to focus on his plate and isn't bothered by his new company and from the sound of their names, it sounds like they might become partners in crime-or 'pawtners' in dog speak. Bonne was rescued from Puerto Rico and is a Sato, which means mixed breed or street dog. Due to extreme poverty, the streets of Puerto Rico are overwrought with thousands of abandoned dogs. Luckily for Bonnie she's no longer one of them, she'll have food on her plate, and she won't have to eat alone ever again. Wait for me!: Bonnie is so afraid to eat alone that she grabs her dish and paws her way over to Clyde . That's better!: Bonnie and Clyde eat together and it seems as though the two dogs may become partners in crime for life .\"]"
      ]
     },
     "execution_count": 32,
     "metadata": {},
     "output_type": "execute_result"
    }
   ],
   "source": [
    "articles"
   ]
  },
  {
   "cell_type": "code",
   "execution_count": 34,
   "id": "2a812c2c",
   "metadata": {},
   "outputs": [],
   "source": [
    "original_articles, cleaned_articles, cleaned_articles_merged = data_preprocess(articles)"
   ]
  },
  {
   "cell_type": "code",
   "execution_count": 36,
   "id": "1e6ba504",
   "metadata": {},
   "outputs": [
    {
     "data": {
      "text/plain": [
       "[[\"Volunteers who have restored one of the Dunkirk 'Little Ships' are now hoping they will be able to take the unique vessel back to the beaches where it helped to rescue 600 British soldiers\",\n",
       "  'Fire boat Massey Shaw was requisitioned from the London Fire Brigade in 1940 and transported to Dunkirk to help with the evacuation of Allied troops in the face of the Nazi advance',\n",
       "  \"After carrying 600 soldiers back to Britain, the boat returned to London where it helped to save St Paul's Cathedral and other buildings damaged in the Blitz\",\n",
       "  'Scroll down for video',\n",
       "  'Renovation: Massey Shaw has been restored to its former glory seven decades after helping to save 600 troops from the Dunkirk beaches',\n",
       "  'Voyage: Volunteers are now hoping to transport the Massey Shaw back to Dunkirk to celebrate its amazing achievement',\n",
       "  'Rusting: This shows the poor condition that the Massey Shaw was in before it was restored by a group of volunteers and a trust',\n",
       "  'Home: The Massey Shaw pictured moored in a dock near Canary Wharf, home to a number of giant global banks',\n",
       "  'Massey Shaw is still capable of pumping out 3,000 gallons of water every minute - as much as four fire engines - despite being 80 years old',\n",
       "  'The boat went out of service in 1971, and four decades was used as a walkway in a London dock, allowing people to get to other bessels',\n",
       "  'But London fireman David Rogers and the Massey Shaw Education Trust spent six years restoring it, thanks to a grant from the National Lottery',\n",
       "  \"They are now seeking additional funding to allow them to transport Massey Shaw to Dunkirk next month, which will mark the 75th anniversary of the Little Ships' adventure\",\n",
       "  'Comeback: It took six years to undo the damage wrought on the Massey Shaw and restore it to how it was in the 1930s',\n",
       "  'Interior: The engine room of the old fire boat, which is still working well even though it was first built 80 years ago',\n",
       "  'On board: The controls and fire bell of the Massey Shaw have also been repaired thanks to a National Lottery grant',\n",
       "  'Deck: The boat is mounted with a hose which can pump out 3,000 gallons of water every minute, the same as four fire engines',\n",
       "  'Saying goodbye: The Massey Shaw pictured on its final voyage before being decommissioned as a fire boat in 1971',\n",
       "  \"Mr Rogers said: 'The boat was built in the 1930s and during its career fought fires along the Thames and London before being called to Dunkirk in 1940\",\n",
       "  'It was the only fire boat to go',\n",
       "  \"'It went with the little ships and was initially going to be used as a fire boat but the strafing and gun fire was too much\",\n",
       "  \"'Because it has a shallow hull it was able to get into La Penne beach outside Dunkirk where she rescued 500 troops in three trips across the English Channel and another 100 back to the UK after that\",\n",
       "  \"'It didn't stop there because as the Massey Shaw headed home a French merchant ship hit a mine about two miles ahead of her\",\n",
       "  'The Massey went to the aid of the aid and the crew and rescued them as well from the water',\n",
       "  'Controls: Volunteers who restored the boat praised the quality of its 80-year-old engineering which still propels the boat',\n",
       "  'Journey: A charity needs to raise £10,000 so they can afford the fuel needed to take the Massey Shaw back to Dunkirk this year',\n",
       "  'Repairs: The engine being removed from the interior of the boat while restoration works were going on',\n",
       "  \"Commemoration: The vessel boasts a plaque marking its historic status as one of the Dunkirk 'Little Ships' 'Of course she was involved in the London Blitz and the Massey Shaw's pumps helped saved St Paul's Cathedral'\",\n",
       "  \"The veteran firefighter, who spent 30 years with the London Fire Brigade, paid tribute to Massey Shaw's unique survival\",\n",
       "  \"'There is nothing like it left from the 1930s, she is a beautiful ship and the engineering is something to behold,' he said\",\n",
       "  'The trust is seeking at least £10,000 to pay for the fuel which would be needed to transport the boat from Britain to Dunkirk',\n",
       "  'After Nazi Germany invaded Poland in September 1939, the British Expeditionary Force (BEF) was sent to help defend France',\n",
       "  'But in May 1940, three German Panzer corps attacked France through the Ardennes and quickly advanced to the English Channel',\n",
       "  'By May 21, the German forces had trapped the BEF and the remains of the French and Belgian armies in an area along the northern coast of France',\n",
       "  'The British force retreated to Dunkirk as it was the best site for an evacuation and the Battle of Dunkirk raged between May 26 and June 4 1940',\n",
       "  'However, in one of the most bizarre military manoeuvres of the war, the Nazis halted their final advance - this gave the Allies three days to plan their escape and arrange the evacuation of 330,000 troops',\n",
       "  'Escape: Soldiers are pictured queuing up waiting to be rescued from Dunkirk during Operation Dynamo',\n",
       "  'Naval bosses ordered all owners of boats between 30ft and 100ft to offer them up to the Admiralty, as the Navy did not have enough vessels to transport all the troops itself',\n",
       "  \"Many of these Little Ships - which included ferries, paddle steamers and yachts - were taken without their owners' permission because there was no time to contact them\",\n",
       "  'A total of 700 vessels were joined by 200 warships and proceeded to cross the Channel to rescue troops who would otherwise have faced potential disaster at the hands of the Nazis',\n",
       "  'The mission, codenamed Operation Dynamo, was one of the most extraordinary moments of the war, and allowed the British authorities to rebuild their military strength',\n",
       "  'Up to 500 Little Ships are believed still to be in existence, and they regularly travel back to Dunkirk in flotilla to recreate the extraordinary operation'],\n",
       " ['Burying the dead along with a human sacrifice was common in ancient Korea',\n",
       "  'But an unusual tomb dating to between the 5th and 6th century seems to hold the remains of two lovers, one of whom may have been killed so the pair could lie together for eternity',\n",
       "  'The skeletons were found on top of one another in the tomb from Korea’s Silla Dynasty, leading some experts suggesting that the set-up could even have been designed to show two people having sex',\n",
       "  'An unusual tomb dating to between the 5th and 6th century seems to hold the remains of two lovers, one of whom may have been killed so the pair could lie together for eternity',\n",
       "  'Here, the bones of the two people can be seen on top of one another, leading some experts to suggest the set-up was designed to imitate sex',\n",
       "  'Archaeologists are almost certain that the tomb was intended for a noblewoman and believe that the man she is lying with may have been killed so he could be buried with her',\n",
       "  'The tomb is made of soil and stone and was discovered last December in Hwangnam-dong, a neighbourhood of Gyeongju City in South Korea,Korea Joongang Daily reported',\n",
       "  'It was the capital of ancient Silla for almost 1,000 years and is known for its intricate gold ornaments and Buddhist temples',\n",
       "  'The remains of the two people, including leg bones and teeth, were found in the main chamber of the tomb and are thought to have died between the ages of 20 and 30',\n",
       "  'Experts believe the tomb was intended for the woman, because her body is carefully positioned to face the sky and she was buried with gold earrings, indicating her high status',\n",
       "  'A belt, beaded necklace and jade green jewels were also found with her skeleton',\n",
       "  'It is not known whether she died naturally or was killed',\n",
       "  'Archaeologists are almost certain that the tomb was intended for a noblewoman and believe that the man she is lying with may have been killed so he could be buried with her',\n",
       "  'The position of the skeletons is shown above',\n",
       "  \"It's thought that the tomb was intended for a noblewoman, based on the positioning of her skeleton and objects found with her body, such as gold earrings (pictured)\",\n",
       "  'In contrast, no precious possessions were found with the male body, leading experts to speculate that he was a human sacrifice and possibly, her lover',\n",
       "  'Both the woman and the man in the tomb are estimated to be between the ages of 20 and 30 when they died, or were killed',\n",
       "  'The woman is thought to have been a noblewoman, based on the fact that her body was positioned on its back in the tomb, and she was buried with precious items such as gold earrings and jade',\n",
       "  'A sword and horse harness was discovered in another room of the tomb, indicating she was used to riding a horse and carrying a weapon, which was not unusual during the Silla Dynasty, which sometimes had women rulers',\n",
       "  \"The man would have been the woman's lover, servant or body guard and it is likely that he was killed to be buried with her\",\n",
       "  'Human sacrifices were buried in tombs at the time so they could act as guards in the afterlife',\n",
       "  'But when males were killed, they were usually placed at the feet of the person whom the tomb was intended for, or outside the main chamber, indicating that the man was of special interest to the noblewoman',\n",
       "  'The fact that the bones lie on top of each other have  led experts to think that the couple were lovers',\n",
       "  'Some even say that their bodies were positioned to make it look like they were having sex',\n",
       "  'In contrast, the man is believed to be a human sacrifice and his bones are positioned on top of hers',\n",
       "  'While male sacrifices were rare but not unheard of at the time, the set up in tomb is thought to be unique',\n",
       "  'Silla history expert, Professor Lee Han-sang of Daejeon University, told\\xa0The Chosun Ilbo: ‘The man could have been a servant, bodyguard or lover’',\n",
       "  '‘The discovery is important because it shows an unknown type of burial of the living with the dead in the Silla period’ Kim Kwon-il, a researcher at The Foundation of Silla Cultural Heritage Research, said: ‘Male sacrifices were often buried in the room where the artefacts were, as guards, so to speak, for the dead’ In the Silla tomb, the position of the teeth indicate that the man and woman’s heads laid next to each other',\n",
       "  'The only bodies previously found in main chambers, show that human sacrifices were often positioned at the feet of the person whom the tomb was intended for',\n",
       "  'Some historians believe that the couple were deliberately arranged to make it look as if they were having sex, Yonhap News Agency reported',\n",
       "  'The man’s thigh bones were found on top of the woman’s, indicating that they could have been locked in an embrace when they were buried',\n",
       "  \"However, researchers at the foundation say that t's more likely that the man may have been buried on a wooden frame above her body, which decayed over time, so his bones became mingled with hers\",\n",
       "  'Explicit clay dolls with large penises or breasts have previously been found and belong to the Silla, supporting some claims that the burial could have been posed to look sexual',\n",
       "  'In another room of the tomb, artefacts including a sword, harness and pottery was recovered, indicating that the woman probably rode horses and carried a weapon',\n",
       "  'No artefacts linked to the man were found, reinforcing the belief he was a sacrifice',\n",
       "  'Tombs from the early part of the Silla Dynasty are rare and just 24 are known to have been discovered',\n",
       "  'The tomb is made of soil and stone and was discovered in Hwangnam-dong (shown on the map with a red marker), a neighbourhood of Gyeongju City in South Korea, last December'],\n",
       " [\"Microsoft hopes to lure more people to use its new Windows 10 software by making it easy to use many of the same apps they're already using on Apple or Android phones\",\n",
       "  \"The move marks a radical shift in strategy for the world's biggest software company, which still dominates the personal computer market but has failed to get any real traction on tablets and phones, partly because of a lack of apps\",\n",
       "  'The company said at its annual Build conference on Wednesday that it will release new programming tools for software developers to rapidly adapt their Apple and Android apps to run on devices that use the new Windows 10 operating system coming late this year',\n",
       "  'Scroll down for video',\n",
       "  \"Microsoft hopes to lure more people to use its new Windows 10 software by making it easy to use many of the same apps they're already using on Apple or Android phones\",\n",
       "  'Pictured: \\xa0Microsoft CEO Satya Nadella delivers his keynote address at Microsoft Build in San Francisco,',\n",
       "  \"New operating system will run on the 'broadest types of devices ever'\",\n",
       "  'Various app stores merged into one platform, called the One Store',\n",
       "  'Return of the Start Menu, which had been removed from Windows 8',\n",
       "  'Users can create multiple desktops to keep things organised',\n",
       "  'Microsoft also announced a new name for the web browser that it plans to offer with Windows 10',\n",
       "  \"The company promises its new 'Edge' browser is faster and more useful than the Internet Explorer that Microsoft has offered for the last 20 years\",\n",
       "  \"The tech giant is making its case for Windows 10 before an army of software developers who may be crucial allies in its campaign to build enthusiasm among consumers for the next version of Microsoft's flagship operating system, coming later this year\",\n",
       "  \"'Our goal is to make Windows 10 the most attractive development platform ever,' Microsoft executive Terry Myerson told an audience of several thousand programmers and app developers\",\n",
       "  'While Microsoft has already previewed some aspects of the new Windows, a parade of top executives is using the Build conference to demonstrate more software features and app-building tools, with an emphasis on mobile devices as well as PCs',\n",
       "  \"Ultimately, they're hoping to win over people who have turned to smartphones and tablets that run on rival operating systems from Google and Apple\",\n",
       "  \"During the three-day conference, Microsoft is also expected to show off new Windows smartphones or other devices and reveal more details about such tech initiatives as the company's new Spartan web browser; its Siri-like digital assistant known as Cortana; and the HoloLens, a futuristic 'augmented reality' headset that projects three-dimensional images in a wearer's field of vision\",\n",
       "  \"But perhaps most importantly, this year's conference is an opportunity for Microsoft to persuade an audience of more than 5,000 techies and independent programmers that it's worth their time to create new apps and programs for Windows 10\",\n",
       "  'Experts say Microsoft needs a rich variety of apps if it wants to appeal to people who are increasingly using mobile gadgets instead of personal computers',\n",
       "  'A woman wearing a HoloLens demonstrates how the technology can be used to test and develop robotics at the Microsoft Build conference in San Francisco',\n",
       "  'Internet Explorer, which was first called Windows Internet Explorer, was first released as part of the add-on package Plus!',\n",
       "  'for Windows 95 in 1995',\n",
       "  'Internet Explorer was one of the most widely used web browsers, attaining a peak of about 95 per cent during 2002 and 2003',\n",
       "  \"However, it struggled in the face of competition, and in May 2012 it was announced that Google's Chrome\\xa0overtook Internet Explorer as the most used browser worldwide\",\n",
       "  'The brand has struggled to shake off the bad reputation of Internet Explorer 6, which was notoriously insecure',\n",
       "  \"'Getting developer buy-in is absolutely the crucial thing,' said JP Gownder, a tech industry analyst at Forrester Research\",\n",
       "  \"He said Microsoft has struggled with a 'chicken-and-egg' problem, in which developers have been reluctant to build mobile apps for Windows because relatively few people use Windows phones and tablets\",\n",
       "  \"Microsoft hopes it has solved that problem by designing Windows 10 so it's easier for developers to build 'universal' apps that work on a variety of Windows devices, from phones to PCs and other gadgets, Gownder said\",\n",
       "  'Currently, there are more than 14 million apps for Android phones and about the same for Apple devices, while there are only a few hundred thousand apps that work on Windows phones and tablets',\n",
       "  'The company also has a big carrot to wave in front of those developers: Microsoft has already said it will release Windows 10 as a free upgrade to people who now have PCs or other gadgets running the previous two versions of Windows, provided they upgrade in the coming year',\n",
       "  'The offer could create a huge new audience of Windows 10 users in a relatively short time, Gownder said',\n",
       "  'Myerson predicted there will be a billion devices using Windows 10 - from PCs to phones, tablets, gaming consoles and even holographic computers - within the next two to three years',\n",
       "  'Microsoft has not said exactly when Windows 10 is coming, and some analysts are hoping the company will announce a release date at the conference, along with details about how it will distribute future upgrades',\n",
       "  \"CEO Satya Nadella and other executives have hinted they'd like to move away from the old notion of selling each new version of Windows as a separate product\",\n",
       "  \"Microsoft's had early success in selling its Office productivity software on a subscription basis, in which customers pay an annual fee to use programs like Word, PowerPoint and Excel\",\n",
       "  'A man demonstrates a device using Windows holographic technology during the Microsoft Build conference',\n",
       "  'Nadella is presiding over a major overhaul of a company that once dominated the tech industry, in the days when PCs were king',\n",
       "  \"He has redesigned some of Microsoft's most popular programs for mobile devices and invested in new 'cloud-computing' services, in which businesses pay to use software that's housed in Microsoft's data centers\",\n",
       "  'Microsoft still relies heavily on selling traditional software for PCs and corporate computer systems',\n",
       "  \"But its latest quarterly earnings report, issued last week, offered some signs that the decline in that business is slowing, while Microsoft's cloud-computing business is growing rapidly\",\n",
       "  \"The news drove Microsoft's share price up 10 percent in one day\",\n",
       "  'The stock has continued to rose, trading as high as $4913 on Wednesday - within a dollar of its 52-week high'],\n",
       " [\"The grandmother of a Virginia teen missing since March 2 came out swinging Sunday at authorities who she says have been 'doing nothing' to bring the girl home\",\n",
       "  \"Katherine Hadsell says she's eager for police in Norfolk to give 'more insight into what they're actually doing' to find 18-year-old college student Anjelica Hadsell\",\n",
       "  'The Longwood University student was home for spring break when she vanished',\n",
       "  'Police just this past week focused their search on a pond near Carrsville after getting a new tip that her cell phone may be below its surface',\n",
       "  'Scroll down for video',\n",
       "  'Concerned?',\n",
       "  \"Katherine Hadsell says police aren't doing enough to find 18-year-old AJ, who's been missing for a month\",\n",
       "  \"Further, she says her son - AJ's stepfather Wesley Hadsell - was arrested unjustly as he took it upon himself to investigate the crime by breaking into a Norfolk area home\",\n",
       "  \"Police are searching a pond near Carrsville, Virginia, in an attempt to find the cell phone of Anjelica 'AJ' Hadsell, a Longwood University freshman who was last seen on March 2\",\n",
       "  \"Meanwhile, the family says they've been left in the dark about how, exactly, police were led to the pond in the first place\",\n",
       "  \"And Hadsell's stepfather has found himself the focus of area police after he was caught allegedly breaking into a home two weeks after Anjelica's disappearance, an act his mother Katherine says was out of fatherly concern\",\n",
       "  'Katherine Hadsell told ABC News her son Wesley had heard his stepdaughter could be inside the home',\n",
       "  \"'As any father would, if you hear that your daughter may or may not be in a house or being held or some of her belongings or at a location, any father is going to try and find out,' Katherine Hadsell said\",\n",
       "  'Hadsell had not been named a suspect as he awaited a hearing on six charges including four charges of obstructing justice, one charge of possessing ammunition after a felony and one charge of breaking and entering',\n",
       "  \"Local resident Steve Hines over the weekend said that divers were searching the outer edges of the pond for the Longwood University freshman's phone, which sent strange text messages to her mother shortly after her disappearance\",\n",
       "  \"AJ Hadsell (left) was last seen driving near her parents' home in Norfolk and her stepfather Wesley Hadsell (right) was taken into custody late last month after being interrogated by police for more than 15 hours\",\n",
       "  'The teenager was last seen when she was home for spring break driving near her home in Norfolk, roughly 40 miles from the pond searched Friday, according to\\xa013 News Now',\n",
       "  'Hines said that police showed him a picture and asked him if he had seen a white van for Quality Plumbing',\n",
       "  \"He said that he had seen the vehicle, which belongs to a company where Hadsell's stepfather Wesley works, driving along the rural road\",\n",
       "  'He had been working in nearby Franklin, Virginia, around the time of the disappearance',\n",
       "  'The stepfather of the teenager, 36, was taken into police custody late last month amid claims that he knows who has taken his daughter',\n",
       "  'He was arrested on March 21 after being interrogated by police for more than 15 hours',\n",
       "  'He said he broke into the home of the person that he believes took his daughter against her will',\n",
       "  'Wesley Hadsell, left, has admitted breaking into the home of the person that he believes took his daughter AJ, right, against her will',\n",
       "  'The stepfather has a criminal record including dropped rape and kidnapping charges',\n",
       "  'Residents of Carrsville reported a white plumbing van for the company Wesley Hadsell works for driving suspiciously around the pond',\n",
       "  \"'I couldn't sit a minute away from where my daughter may have been,' he told WAVYcom\",\n",
       "  'Wesley has admitted to spending roughly 18 minutes inside the home, where he says he searched for evidence by going through the trash and searching under the carpet',\n",
       "  'He said he even punched the family dog out of anger',\n",
       "  \"While searching the property AJ's stepfather claims that he discovered her jacket\",\n",
       "  \"'I found my daughter's jacket in his couch rolled up behind the cushion,' he said\",\n",
       "  \"'I was just trying to make the evidence come to light\",\n",
       "  \"It's not like I had the jacket, I didn't plant the jacket, I didn't know anything about that\",\n",
       "  \"It was the fact of the overwhelming information that led me there'\",\n",
       "  'Officially police have said that they are not ruling out foul play and they have no suspects',\n",
       "  \"During a search of Wesley's hotel room police found 72 rounds of nine-millimeter ammunition\",\n",
       "  'He has aroused local suspicions on social media in part because he has a lengthy felony criminal record',\n",
       "  'In 2005 his ex-wife went missing for several days and he was reportedly arrested after allegedly kidnapping her and driving her across multiple states',\n",
       "  'Charges of rape, kidnapping, assault and domestic violence were later dropped',\n",
       "  'Police have not ruled out foul play in the disappearance of the Longwood University freshman, which has lasted for more than a month',\n",
       "  \"Police spent over 12 hours combing a large, remote wooded area in coastal Chesapeake following a tip that some of AJ's clothing had being found on the side of the road late last month\",\n",
       "  'He also served 54 months in prison for a bank robbery in Fredericksburg, Virginia, according to WTKR',\n",
       "  'Now he says that he is a changed man',\n",
       "  'Wesley and his wife were estranged when he was arrested, but it is not clear what their relationship was at the time of the disappearance',\n",
       "  \"Jennifer Busby, AJ's mother, said she received text messages from her daughter's phone shortly after he disappearance but was not sure that the person sending them was actually the missing girl\",\n",
       "  \"Wesley Hadsell was denied bond and the judge said the he was trying to impede the investigation into his stepdaughter's disappearance, according to the Virginian-Pilot\",\n",
       "  'He admitted to increasing cocaine use, but said that he just wants to see his daughter home',\n",
       "  \"A neighbor reported seeing AJ driving 'with purpose' and then saw a white four-door vehicle following about a minute behind her\",\n",
       "  \"They say Hadsell was followed by a white four-door compact car less than one minute later, and that another neighbor spotted a similar white car in the family's driveway around the same time\",\n",
       "  \"AJ's family and friends discovered items of her clothing two weeks ago near the side of the road in a remote wooded area in coastal Chesapeake\",\n",
       "  'Four items were found that belonged to her',\n",
       "  'AJ is described as standing at 5 feet 6 inches tall and weighing 120 pounds'],\n",
       " [\"A rescue Sato named Bonnie is so afraid that she will be abandoned again that she can't bear to eat alone\",\n",
       "  'In an adorable video posted to YouTube by user Jeannine S with nearly one million views, puppy Bonnie can be seen lifting her dish to bring it over to her canine friend Clyde who is also scarfing down a meal',\n",
       "  'Bonnie lifts the dish into her mouth and scuttles her paws backwards to dine along with Clyde',\n",
       "  \"Given a dish: Bonnie's new owner feeds her a dish of food away from his other dog Clyde\",\n",
       "  \"Clyde continues to focus on his plate and isn't bothered by his new company and from the sound of their names, it sounds like they might become partners in crime-or 'pawtners' in dog speak\",\n",
       "  'Bonne was rescued from Puerto Rico and is a Sato, which means mixed breed or street dog',\n",
       "  'Due to extreme poverty, the streets of Puerto Rico are overwrought with thousands of abandoned dogs',\n",
       "  \"Luckily for Bonnie she's no longer one of them, she'll have food on her plate, and she won't have to eat alone ever again\",\n",
       "  'Wait for me!',\n",
       "  ': Bonnie is so afraid to eat alone that she grabs her dish and paws her way over to Clyde',\n",
       "  \"That's better!\",\n",
       "  ': Bonnie and Clyde eat together and it seems as though the two dogs may become partners in crime for life']]"
      ]
     },
     "execution_count": 36,
     "metadata": {},
     "output_type": "execute_result"
    }
   ],
   "source": [
    "original_articles"
   ]
  },
  {
   "cell_type": "code",
   "execution_count": 2,
   "id": "e5c86c74",
   "metadata": {},
   "outputs": [
    {
     "name": "stdout",
     "output_type": "stream",
     "text": [
      "Collecting rouge-metric\n",
      "  Downloading rouge_metric-1.0.1-py3-none-any.whl (151 kB)\n",
      "\u001b[K     |████████████████████████████████| 151 kB 3.2 MB/s eta 0:00:01\n",
      "\u001b[?25hInstalling collected packages: rouge-metric\n",
      "Successfully installed rouge-metric-1.0.1\n"
     ]
    }
   ],
   "source": [
    "!pip install rouge-metric"
   ]
  },
  {
   "cell_type": "code",
   "execution_count": 8,
   "id": "c64cc035",
   "metadata": {},
   "outputs": [
    {
     "data": {
      "text/plain": [
       "{'rouge-1': {'r': 0.3333333333333333,\n",
       "  'p': 0.3333333333333333,\n",
       "  'f': 0.3333333333333333},\n",
       " 'rouge-2': {'r': 0.0, 'p': 0.0, 'f': 0.0},\n",
       " 'rouge-l': {'r': 0.3333333333333333,\n",
       "  'p': 0.3333333333333333,\n",
       "  'f': 0.3333333333333333},\n",
       " 'rouge-s3': {'r': 0.0, 'p': 0.0, 'f': 0.0},\n",
       " 'rouge-su3': {'r': 0.05263157894736842,\n",
       "  'p': 0.05263157894736842,\n",
       "  'f': 0.05263157894736842}}"
      ]
     },
     "execution_count": 8,
     "metadata": {},
     "output_type": "execute_result"
    }
   ],
   "source": [
    "# Load summary results and evaluate\n",
    "hypotheses = ['how are you. i am fine']\n",
    "references = [['how do you do. fine thanks']]\n",
    "\n",
    "def get_rouge\n"
   ]
  },
  {
   "cell_type": "code",
   "execution_count": 15,
   "id": "be0dba47",
   "metadata": {},
   "outputs": [],
   "source": []
  },
  {
   "cell_type": "code",
   "execution_count": 16,
   "id": "4ff9280a",
   "metadata": {},
   "outputs": [
    {
     "name": "stdout",
     "output_type": "stream",
     "text": [
      "rouge-1 r: 0.3333333333333333\n",
      "rouge-1 p: 0.3333333333333333\n",
      "rouge-1 f: 0.3333333333333333\n",
      "rouge-2 r: 0.0\n",
      "rouge-2 p: 0.0\n",
      "rouge-2 f: 0.0\n",
      "rouge-l r: 0.3333333333333333\n",
      "rouge-l p: 0.3333333333333333\n",
      "rouge-l f: 0.3333333333333333\n",
      "rouge-s3 r: 0.0\n",
      "rouge-s3 p: 0.0\n",
      "rouge-s3 f: 0.0\n",
      "rouge-su3 r: 0.05263157894736842\n",
      "rouge-su3 p: 0.05263157894736842\n",
      "rouge-su3 f: 0.05263157894736842\n"
     ]
    }
   ],
   "source": [
    "for k,v in rouge_dict.items():\n",
    "    print(k+\":\",v)"
   ]
  },
  {
   "cell_type": "code",
   "execution_count": null,
   "id": "5c1e8699",
   "metadata": {},
   "outputs": [],
   "source": []
  }
 ],
 "metadata": {
  "kernelspec": {
   "display_name": "Python 3",
   "language": "python",
   "name": "python3"
  },
  "language_info": {
   "codemirror_mode": {
    "name": "ipython",
    "version": 3
   },
   "file_extension": ".py",
   "mimetype": "text/x-python",
   "name": "python",
   "nbconvert_exporter": "python",
   "pygments_lexer": "ipython3",
   "version": "3.8.8"
  }
 },
 "nbformat": 4,
 "nbformat_minor": 5
}
